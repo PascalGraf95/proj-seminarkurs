{
 "cells": [
  {
   "cell_type": "markdown",
   "id": "24296a36-d6ae-41f0-a134-d3ea8abc9cf1",
   "metadata": {},
   "source": [
    "# Classification with Decision Trees and KNN on the Breast Cancer Wisconsin Dataset"
   ]
  },
  {
   "cell_type": "markdown",
   "id": "e181c425-5265-4803-81b1-f56bf9d0058b",
   "metadata": {},
   "source": [
    "## 1 - Imports\n",
    "\n",
    "First, we import the necessary libraries. The pandas library will help us to handle our data.\n",
    "The pyplot library will help us create graphs and visualizations.\n",
    "And finally, numpy helps us to rearrange and perform calculations with arrays and matrices."
   ]
  },
  {
   "cell_type": "code",
   "execution_count": 1,
   "id": "7a695b5e-ad9d-4ca3-86da-56d546086c39",
   "metadata": {},
   "outputs": [],
   "source": [
    "import pandas as pd\n",
    "import matplotlib.pyplot as plt\n",
    "import numpy as np"
   ]
  },
  {
   "cell_type": "markdown",
   "id": "7078e251-f9dc-41ec-9602-f57aad309ea5",
   "metadata": {},
   "source": [
    "## 2 - The Breast Cancer Wisconsin Dataset\n",
    "\n",
    "The Breast Cancer Wisconsin dataset is a classic and very easy binary classification dataset. It consists of 569 instances of breast cancer. 212 of these instances are labelled as malignant (label 0) and 357 are labelled as benign (label 1).\n",
    "\n",
    "The features in the dataset are computed from a digitized image of a fine needle aspirate (FNA) of a breast mass. They describe characteristics of the cell nuclei present in the image.\n",
    "\n",
    "FNA is a method to extract a small amount of tissue instead of an invasive surgical biopsy. Here is the process for an FNA:   \n",
    "![FNA process](https://www.verywellhealth.com/thmb/U7vbgw4xDzcAaJqPBMHC6YlDwcg=/750x0/filters:no_upscale():max_bytes(150000):strip_icc():format(webp)/VWH-EllenLindner-WhattoExpectDuringaFineNeedleAspiration-Standard-f3922b5388734f2b879d5a895a97c9fe.jpg)\n",
    "\n",
    "\n",
    "Here are samples of the images made of the FNA samples:   \n",
    "![Benign](https://static.hindawi.com/articles/abb/volume-2022/6187275/figures/6187275.fig.001.jpg)\n",
    "\n",
    "![Malignant](https://static.hindawi.com/articles/abb/volume-2022/6187275/figures/6187275.fig.002.jpg)\n",
    "\n",
    "To digitize the images, users first had to initialize the model by drawing approximate boundaries around the cell nucleus. The actual boundary is located by an active contour model, a so called [snake](https://en.wikipedia.org/wiki/Active_contour_model).\n",
    "\n",
    "\n",
    "Ten real-valued characteristics/features were computed from these images. For the classification, we use only four of them:\n",
    "\n",
    "1. radius (mean of distances from nucleus center to points on the perimeter)\n",
    "2. concavity (severity of concave portions of the contour)\n",
    "3. concave points (number of concave portions of the contour)\n",
    "4. symmetry (In order to measure symmetry, the major axis, or longest chord through the center, is found. We then measure the length difference between lines perpendicular to the major axis to the cell boundary in both directions.)\n",
    "\n",
    "The mean, standard error and \"worst\" or largest (mean of the three largest values) of these characteristics were computed for each image, resulting in 30 features.\n",
    "For instance, field 0 is Mean Radius, field 11 is Radius Standard Error, field 21 is Worst Radius."
   ]
  },
  {
   "cell_type": "code",
   "execution_count": 2,
   "id": "4ec049c8-a2d2-448a-8d20-90ea4279c271",
   "metadata": {},
   "outputs": [],
   "source": [
    "from sklearn.datasets import load_breast_cancer\n",
    "breast_cancer_DS = load_breast_cancer()"
   ]
  },
  {
   "cell_type": "markdown",
   "id": "d5d3c63b-53a4-4349-98f1-b9fac904359c",
   "metadata": {},
   "source": [
    "The type of the dataset is `sklearn.utils.Bunch` - a scikit-learn custom dictionary-like data structure with entries containing the:\n",
    "* `data` - the 30 features for each of the 569 data points\n",
    "* `feature_names` - the names of each of the 30 features\n",
    "* `target` - the label (0 or 1) for each of the 569 data points\n",
    "* `target_names` - the names associated with the labels 0-malignant, 1-benign\n",
    "* `DESCR` - the metadata with description of the dataset"
   ]
  },
  {
   "cell_type": "code",
   "execution_count": 3,
   "id": "8eb712d6-41a7-4ecb-950a-7cab397cec8a",
   "metadata": {},
   "outputs": [
    {
     "data": {
      "text/plain": [
       "dict_keys(['data', 'target', 'frame', 'target_names', 'DESCR', 'feature_names', 'filename', 'data_module'])"
      ]
     },
     "execution_count": 3,
     "metadata": {},
     "output_type": "execute_result"
    }
   ],
   "source": [
    "breast_cancer_DS.keys()"
   ]
  },
  {
   "cell_type": "markdown",
   "id": "6f752888-bc11-42d7-8a19-ddc093947ed1",
   "metadata": {},
   "source": [
    "### 2.1 - Exploring the Breast Cancer Wisconsin Dataset"
   ]
  },
  {
   "cell_type": "code",
   "execution_count": 4,
   "id": "96b38837-b0f4-4e20-b461-0ad5f1c56329",
   "metadata": {},
   "outputs": [
    {
     "name": "stdout",
     "output_type": "stream",
     "text": [
      "['mean radius' 'mean texture' 'mean perimeter' 'mean area'\n",
      " 'mean smoothness' 'mean compactness' 'mean concavity'\n",
      " 'mean concave points' 'mean symmetry' 'mean fractal dimension'\n",
      " 'radius error' 'texture error' 'perimeter error' 'area error'\n",
      " 'smoothness error' 'compactness error' 'concavity error'\n",
      " 'concave points error' 'symmetry error' 'fractal dimension error'\n",
      " 'worst radius' 'worst texture' 'worst perimeter' 'worst area'\n",
      " 'worst smoothness' 'worst compactness' 'worst concavity'\n",
      " 'worst concave points' 'worst symmetry' 'worst fractal dimension']\n"
     ]
    }
   ],
   "source": [
    "print (breast_cancer_DS.feature_names)"
   ]
  },
  {
   "cell_type": "code",
   "execution_count": 5,
   "id": "58f07531-b1e3-46cf-89ba-099a27bb7dce",
   "metadata": {},
   "outputs": [],
   "source": [
    "# Load all data points x[i]\n",
    "X = breast_cancer_DS.data\n",
    "\n",
    "# Load the target data y[i] (labels for each x[i])\n",
    "y = breast_cancer_DS.target # 0 - malignant, 1 - benign"
   ]
  },
  {
   "cell_type": "code",
   "execution_count": 6,
   "id": "ba6e8cca-2adc-4ceb-8b06-61fdad6316d8",
   "metadata": {},
   "outputs": [],
   "source": [
    "selected_features = [\"worst concave points\", \"worst concavity\", \"worst radius\", \"mean symmetry\", \"worst symmetry\"]\n",
    "X = pd.DataFrame(X, columns=breast_cancer_DS['feature_names'])\n",
    "X = X[selected_features]\n",
    "#X = X.values.tolist()\n",
    "X = X.to_numpy()"
   ]
  },
  {
   "cell_type": "code",
   "execution_count": 7,
   "id": "54afd0c1-a0cf-48cc-a91d-10cad927f00e",
   "metadata": {},
   "outputs": [
    {
     "data": {
      "text/plain": [
       "(569, 5)"
      ]
     },
     "execution_count": 7,
     "metadata": {},
     "output_type": "execute_result"
    }
   ],
   "source": [
    "X.shape"
   ]
  },
  {
   "cell_type": "code",
   "execution_count": 8,
   "id": "8f1e22ff-9371-40ba-a1ab-9a63a091b3e7",
   "metadata": {},
   "outputs": [],
   "source": [
    "# Create a Pandas dataframe with the features and add a column with the corresponding labels\n",
    "dataset = pd.DataFrame(X, columns=selected_features)"
   ]
  },
  {
   "cell_type": "code",
   "execution_count": 9,
   "id": "765c68c7-2176-4288-9187-66d9b84c4a51",
   "metadata": {},
   "outputs": [
    {
     "data": {
      "text/html": [
       "<div>\n",
       "<style scoped>\n",
       "    .dataframe tbody tr th:only-of-type {\n",
       "        vertical-align: middle;\n",
       "    }\n",
       "\n",
       "    .dataframe tbody tr th {\n",
       "        vertical-align: top;\n",
       "    }\n",
       "\n",
       "    .dataframe thead th {\n",
       "        text-align: right;\n",
       "    }\n",
       "</style>\n",
       "<table border=\"1\" class=\"dataframe\">\n",
       "  <thead>\n",
       "    <tr style=\"text-align: right;\">\n",
       "      <th></th>\n",
       "      <th>worst concave points</th>\n",
       "      <th>worst concavity</th>\n",
       "      <th>worst radius</th>\n",
       "      <th>mean symmetry</th>\n",
       "      <th>worst symmetry</th>\n",
       "    </tr>\n",
       "  </thead>\n",
       "  <tbody>\n",
       "    <tr>\n",
       "      <th>0</th>\n",
       "      <td>0.2654</td>\n",
       "      <td>0.7119</td>\n",
       "      <td>25.38</td>\n",
       "      <td>0.2419</td>\n",
       "      <td>0.4601</td>\n",
       "    </tr>\n",
       "    <tr>\n",
       "      <th>1</th>\n",
       "      <td>0.1860</td>\n",
       "      <td>0.2416</td>\n",
       "      <td>24.99</td>\n",
       "      <td>0.1812</td>\n",
       "      <td>0.2750</td>\n",
       "    </tr>\n",
       "    <tr>\n",
       "      <th>2</th>\n",
       "      <td>0.2430</td>\n",
       "      <td>0.4504</td>\n",
       "      <td>23.57</td>\n",
       "      <td>0.2069</td>\n",
       "      <td>0.3613</td>\n",
       "    </tr>\n",
       "    <tr>\n",
       "      <th>3</th>\n",
       "      <td>0.2575</td>\n",
       "      <td>0.6869</td>\n",
       "      <td>14.91</td>\n",
       "      <td>0.2597</td>\n",
       "      <td>0.6638</td>\n",
       "    </tr>\n",
       "    <tr>\n",
       "      <th>4</th>\n",
       "      <td>0.1625</td>\n",
       "      <td>0.4000</td>\n",
       "      <td>22.54</td>\n",
       "      <td>0.1809</td>\n",
       "      <td>0.2364</td>\n",
       "    </tr>\n",
       "  </tbody>\n",
       "</table>\n",
       "</div>"
      ],
      "text/plain": [
       "   worst concave points  worst concavity  worst radius  mean symmetry  \\\n",
       "0                0.2654           0.7119         25.38         0.2419   \n",
       "1                0.1860           0.2416         24.99         0.1812   \n",
       "2                0.2430           0.4504         23.57         0.2069   \n",
       "3                0.2575           0.6869         14.91         0.2597   \n",
       "4                0.1625           0.4000         22.54         0.1809   \n",
       "\n",
       "   worst symmetry  \n",
       "0          0.4601  \n",
       "1          0.2750  \n",
       "2          0.3613  \n",
       "3          0.6638  \n",
       "4          0.2364  "
      ]
     },
     "execution_count": 9,
     "metadata": {},
     "output_type": "execute_result"
    }
   ],
   "source": [
    "dataset.head(5)"
   ]
  },
  {
   "cell_type": "code",
   "execution_count": 10,
   "id": "3fd1cf0f-2a2d-4070-9b6e-81bdf690bd1c",
   "metadata": {},
   "outputs": [
    {
     "data": {
      "text/html": [
       "<div>\n",
       "<style scoped>\n",
       "    .dataframe tbody tr th:only-of-type {\n",
       "        vertical-align: middle;\n",
       "    }\n",
       "\n",
       "    .dataframe tbody tr th {\n",
       "        vertical-align: top;\n",
       "    }\n",
       "\n",
       "    .dataframe thead th {\n",
       "        text-align: right;\n",
       "    }\n",
       "</style>\n",
       "<table border=\"1\" class=\"dataframe\">\n",
       "  <thead>\n",
       "    <tr style=\"text-align: right;\">\n",
       "      <th></th>\n",
       "      <th>worst concave points</th>\n",
       "      <th>worst concavity</th>\n",
       "      <th>worst radius</th>\n",
       "      <th>mean symmetry</th>\n",
       "      <th>worst symmetry</th>\n",
       "    </tr>\n",
       "  </thead>\n",
       "  <tbody>\n",
       "    <tr>\n",
       "      <th>count</th>\n",
       "      <td>569.000000</td>\n",
       "      <td>569.000000</td>\n",
       "      <td>569.000000</td>\n",
       "      <td>569.000000</td>\n",
       "      <td>569.000000</td>\n",
       "    </tr>\n",
       "    <tr>\n",
       "      <th>mean</th>\n",
       "      <td>0.114606</td>\n",
       "      <td>0.272188</td>\n",
       "      <td>16.269190</td>\n",
       "      <td>0.181162</td>\n",
       "      <td>0.290076</td>\n",
       "    </tr>\n",
       "    <tr>\n",
       "      <th>std</th>\n",
       "      <td>0.065732</td>\n",
       "      <td>0.208624</td>\n",
       "      <td>4.833242</td>\n",
       "      <td>0.027414</td>\n",
       "      <td>0.061867</td>\n",
       "    </tr>\n",
       "    <tr>\n",
       "      <th>min</th>\n",
       "      <td>0.000000</td>\n",
       "      <td>0.000000</td>\n",
       "      <td>7.930000</td>\n",
       "      <td>0.106000</td>\n",
       "      <td>0.156500</td>\n",
       "    </tr>\n",
       "    <tr>\n",
       "      <th>25%</th>\n",
       "      <td>0.064930</td>\n",
       "      <td>0.114500</td>\n",
       "      <td>13.010000</td>\n",
       "      <td>0.161900</td>\n",
       "      <td>0.250400</td>\n",
       "    </tr>\n",
       "    <tr>\n",
       "      <th>50%</th>\n",
       "      <td>0.099930</td>\n",
       "      <td>0.226700</td>\n",
       "      <td>14.970000</td>\n",
       "      <td>0.179200</td>\n",
       "      <td>0.282200</td>\n",
       "    </tr>\n",
       "    <tr>\n",
       "      <th>75%</th>\n",
       "      <td>0.161400</td>\n",
       "      <td>0.382900</td>\n",
       "      <td>18.790000</td>\n",
       "      <td>0.195700</td>\n",
       "      <td>0.317900</td>\n",
       "    </tr>\n",
       "    <tr>\n",
       "      <th>max</th>\n",
       "      <td>0.291000</td>\n",
       "      <td>1.252000</td>\n",
       "      <td>36.040000</td>\n",
       "      <td>0.304000</td>\n",
       "      <td>0.663800</td>\n",
       "    </tr>\n",
       "  </tbody>\n",
       "</table>\n",
       "</div>"
      ],
      "text/plain": [
       "       worst concave points  worst concavity  worst radius  mean symmetry  \\\n",
       "count            569.000000       569.000000    569.000000     569.000000   \n",
       "mean               0.114606         0.272188     16.269190       0.181162   \n",
       "std                0.065732         0.208624      4.833242       0.027414   \n",
       "min                0.000000         0.000000      7.930000       0.106000   \n",
       "25%                0.064930         0.114500     13.010000       0.161900   \n",
       "50%                0.099930         0.226700     14.970000       0.179200   \n",
       "75%                0.161400         0.382900     18.790000       0.195700   \n",
       "max                0.291000         1.252000     36.040000       0.304000   \n",
       "\n",
       "       worst symmetry  \n",
       "count      569.000000  \n",
       "mean         0.290076  \n",
       "std          0.061867  \n",
       "min          0.156500  \n",
       "25%          0.250400  \n",
       "50%          0.282200  \n",
       "75%          0.317900  \n",
       "max          0.663800  "
      ]
     },
     "execution_count": 10,
     "metadata": {},
     "output_type": "execute_result"
    }
   ],
   "source": [
    "dataset.describe()"
   ]
  },
  {
   "cell_type": "code",
   "execution_count": 11,
   "id": "3fd1f556-1e22-4be6-affa-345dc3045145",
   "metadata": {},
   "outputs": [
    {
     "name": "stdout",
     "output_type": "stream",
     "text": [
      "<class 'pandas.core.frame.DataFrame'>\n",
      "RangeIndex: 569 entries, 0 to 568\n",
      "Data columns (total 5 columns):\n",
      " #   Column                Non-Null Count  Dtype  \n",
      "---  ------                --------------  -----  \n",
      " 0   worst concave points  569 non-null    float64\n",
      " 1   worst concavity       569 non-null    float64\n",
      " 2   worst radius          569 non-null    float64\n",
      " 3   mean symmetry         569 non-null    float64\n",
      " 4   worst symmetry        569 non-null    float64\n",
      "dtypes: float64(5)\n",
      "memory usage: 22.4 KB\n"
     ]
    }
   ],
   "source": [
    "dataset.info()"
   ]
  },
  {
   "cell_type": "code",
   "execution_count": 12,
   "id": "2611abde-8302-4a1e-995f-e7948be7a30f",
   "metadata": {},
   "outputs": [
    {
     "data": {
      "text/plain": [
       "(569, 6)"
      ]
     },
     "execution_count": 12,
     "metadata": {},
     "output_type": "execute_result"
    }
   ],
   "source": [
    "dataset['is_benign'] = y.T\n",
    "dataset.shape"
   ]
  },
  {
   "cell_type": "markdown",
   "id": "ccd28099-8a69-4017-8eed-65dffd22c324",
   "metadata": {},
   "source": [
    "Here we can see how many benign"
   ]
  },
  {
   "cell_type": "markdown",
   "id": "64347fdc-d7cb-4775-96b9-999edf37e838",
   "metadata": {},
   "source": [
    "### 2.2 - Class distribution"
   ]
  },
  {
   "cell_type": "code",
   "execution_count": 13,
   "id": "49761bfe-0777-49c0-84b2-add87893dd81",
   "metadata": {},
   "outputs": [
    {
     "data": {
      "image/png": "[encoded data removed]",
      "text/plain": [
       "<Figure size 640x480 with 1 Axes>"
      ]
     },
     "metadata": {},
     "output_type": "display_data"
    }
   ],
   "source": [
    "colors=['green','yellow']\n",
    "dataset.is_benign.value_counts().plot(kind=\"pie\",colors=colors,autopct='%1.1f%%', labels=[\"benign\", \"malignant\"])\n",
    "plt.axis(\"equal\")\n",
    "plt.show()"
   ]
  },
  {
   "cell_type": "markdown",
   "id": "deae6794-6840-4224-b7a6-446a6bb04b82",
   "metadata": {},
   "source": [
    "After exploring the class distribution in the dataset it is obvious that there are more datapoint labeled as \"benign\". This is a so called **Majority Class**. Namely, a \"stupid\" classifier that always predicts 1 will produce predictions with 63% accuracy (`count_benign / count_all`). Our classifier must perform better."
   ]
  },
  {
   "cell_type": "markdown",
   "id": "760e6cae-c668-4fcb-a07d-3a7e11e346ec",
   "metadata": {},
   "source": [
    "### 2.3 - Train-Test Split\n",
    "\n",
    "We will now have to split the dataset into _training set_ and _test set_. The trainig set will be used to fit the model parameters. The data points in the test set will not be used for training the model. They will only be used for unbiased (objective) evaluation of the model(s). \n",
    "\n",
    "For this purpose we will be using:\n",
    "* [`sklearn.preprocessing.scale`](http://scikit-learn.org/stable/modules/generated/sklearn.preprocessing.scale.html) - for normalizing the data\n",
    "* [`sklearn.model_selection.train_test_split`](http://scikit-learn.org/stable/modules/generated/sklearn.model_selection.train_test_split.html) - for splitting the data into random train and test subsets"
   ]
  },
  {
   "cell_type": "code",
   "execution_count": 14,
   "id": "1a83dd0d-8412-4b0b-9412-f273fc9e3ac1",
   "metadata": {},
   "outputs": [],
   "source": [
    "from sklearn.model_selection import train_test_split\n",
    "from sklearn.preprocessing import scale"
   ]
  },
  {
   "cell_type": "markdown",
   "id": "41d3ee52-ef17-405c-b6e3-ca406bc077d7",
   "metadata": {},
   "source": [
    "## 3 - Decision Tree\n",
    "### 3.1 - Import"
   ]
  },
  {
   "cell_type": "code",
   "execution_count": 15,
   "id": "2c922998-dc04-49a1-9c9a-9e20a9d6796b",
   "metadata": {},
   "outputs": [],
   "source": [
    "from sklearn.tree import DecisionTreeClassifier\n",
    "from sklearn import tree as sklearn_tree"
   ]
  },
  {
   "cell_type": "code",
   "execution_count": 16,
   "id": "a521675d-f01b-475b-84b2-8726735913ea",
   "metadata": {},
   "outputs": [],
   "source": [
    "X_part, X_test, y_part, y_test = train_test_split(X, y, stratify=y, test_size=0.2, random_state=1)"
   ]
  },
  {
   "cell_type": "code",
   "execution_count": 17,
   "id": "ee7caed8-c5b2-426c-bf63-e37ac7fc5ea2",
   "metadata": {},
   "outputs": [],
   "source": [
    "X_train, X_val, y_train, y_val = train_test_split(X_part, y_part, stratify=y_part, test_size=0.2, random_state=1)"
   ]
  },
  {
   "cell_type": "markdown",
   "id": "6a67d159-ee3a-4e3f-a87f-c0395d23ddb1",
   "metadata": {},
   "source": [
    "### 3.2 - Trying out different values of $max\\_depth$"
   ]
  },
  {
   "cell_type": "code",
   "execution_count": 18,
   "id": "4b1d2fdc-6ef2-4f93-8583-c40543d580c8",
   "metadata": {},
   "outputs": [
    {
     "data": {
      "text/plain": [
       "<matplotlib.legend.Legend at 0x22dbbe8e610>"
      ]
     },
     "execution_count": 18,
     "metadata": {},
     "output_type": "execute_result"
    },
    {
     "data": {
      "image/png": "[encoded data removed]",
      "text/plain": [
       "<Figure size 640x480 with 1 Axes>"
      ]
     },
     "metadata": {},
     "output_type": "display_data"
    }
   ],
   "source": [
    "training_accuracy = []\n",
    "val_accuracy = []\n",
    "\n",
    "max_dep = range(1, 15)\n",
    "\n",
    "for md in max_dep:\n",
    "    tree = DecisionTreeClassifier(max_depth=md, random_state=0, criterion=\"entropy\")\n",
    "    tree.fit(X_train, y_train)\n",
    "    training_accuracy.append(tree.score(X_train, y_train))\n",
    "    val_accuracy.append(tree.score(X_val, y_val))\n",
    "    \n",
    "plt.plot(max_dep, training_accuracy, label='Training Set Accuracy')\n",
    "plt.plot(max_dep, val_accuracy, label='Validation Set Accuracy')\n",
    "plt.ylabel('Accuracy')\n",
    "plt.xlabel('max_depth)\n",
    "plt.legend()"
   ]
  },
  {
   "cell_type": "markdown",
   "id": "4d466d3e-ac1b-437a-a5f5-1df44ac4f408",
   "metadata": {},
   "source": [
    "By looking at plot, best results are obtained for `max_depth == 2`. It seems that the model doesn't overfit too much, even with more depth. This could be because we are only using five of the ten features of the data.\n",
    "Other parameters that control the size of the tree and can provide better results are:\n",
    "* `min_samples_leaf`- The minimum number of samples required to be at a leaf node\n",
    "* `min_samples_split` - The minimum number of samples required to split an internal node:\n",
    "* `max_leaf_nodes` - Grow a tree with max_leaf_nodes in best-first fashion."
   ]
  },
  {
   "cell_type": "markdown",
   "id": "a1624a88-08b8-45d0-94d5-53cb92aecdb7",
   "metadata": {},
   "source": [
    "### 3.3 - Calculate Accuracy of Test Set"
   ]
  },
  {
   "cell_type": "code",
   "execution_count": 19,
   "id": "d0a40056-89db-4b74-a462-158c9c501b9c",
   "metadata": {},
   "outputs": [],
   "source": [
    "# test\n",
    "tree = DecisionTreeClassifier(max_depth=val_accuracy.index(max(val_accuracy)) + 1, random_state=0, criterion=\"entropy\")\n",
    "tree.fit(X_train, y_train)\n",
    "test_accuracy = tree.score(X_train, y_train)"
   ]
  },
  {
   "cell_type": "code",
   "execution_count": 20,
   "id": "6acfe01b-8186-4304-8846-24afc78a1e9c",
   "metadata": {},
   "outputs": [
    {
     "name": "stdout",
     "output_type": "stream",
     "text": [
      "Accuracy on the test set for max_depth=2: 0.945\n"
     ]
    }
   ],
   "source": [
    "print('Accuracy on the test set for max_depth={0}: {1:.3f}'.format(val_accuracy.index(max(val_accuracy)) + 1,  test_accuracy))"
   ]
  },
  {
   "cell_type": "markdown",
   "id": "e2cd5c3e-e182-4c8b-8361-555d24c04632",
   "metadata": {},
   "source": [
    "### 3.4 - Visualizing the best Decision Tree"
   ]
  },
  {
   "cell_type": "code",
   "execution_count": 21,
   "id": "aa8094bf-4ead-40f3-b7b4-0e12a9d7bd07",
   "metadata": {},
   "outputs": [
    {
     "data": {
      "text/plain": [
       "[Text(0.5, 0.8333333333333334, 'worst concave points <= 0.141\\ngini = 0.468\\nsamples = 364\\nvalue = [136, 228]'),\n",
       " Text(0.25, 0.5, 'worst radius <= 16.83\\ngini = 0.165\\nsamples = 243\\nvalue = [22, 221]'),\n",
       " Text(0.125, 0.16666666666666666, 'gini = 0.053\\nsamples = 220\\nvalue = [6, 214]'),\n",
       " Text(0.375, 0.16666666666666666, 'gini = 0.423\\nsamples = 23\\nvalue = [16, 7]'),\n",
       " Text(0.75, 0.5, 'worst radius <= 15.59\\ngini = 0.109\\nsamples = 121\\nvalue = [114, 7]'),\n",
       " Text(0.625, 0.16666666666666666, 'gini = 0.5\\nsamples = 12\\nvalue = [6, 6]'),\n",
       " Text(0.875, 0.16666666666666666, 'gini = 0.018\\nsamples = 109\\nvalue = [108, 1]')]"
      ]
     },
     "execution_count": 21,
     "metadata": {},
     "output_type": "execute_result"
    },
    {
     "data": {
      "image/png": "[encoded data removed]",
      "text/plain": [
       "<Figure size 1000x600 with 1 Axes>"
      ]
     },
     "metadata": {},
     "output_type": "display_data"
    }
   ],
   "source": [
    "tree = DecisionTreeClassifier(max_depth=max_dep[val_accuracy.index(max(val_accuracy))], random_state=0)\n",
    "clf = tree.fit(X_train, y_train)\n",
    "plt.figure(figsize=(10,6))\n",
    "sklearn_tree.plot_tree(tree, filled=True, fontsize=8, feature_names=list(dataset.columns), rounded=False)"
   ]
  },
  {
   "cell_type": "markdown",
   "id": "2741fda9-8e92-4661-823e-e9cb165d120b",
   "metadata": {},
   "source": [
    "The gini index is a measure of impurity, like entropy. Remember entropy?   \n",
    "![Variation of Entropy against data points](https://d1rwhvwstyk9gu.cloudfront.net/2022/10/Entropy.png)   \n",
    "![Entropy vs. Gini Index](https://ekamperi.github.io/images/decision_trees/gini_vs_entropy.png)"
   ]
  },
  {
   "cell_type": "markdown",
   "id": "38543358-6632-42db-b1c6-0b80842ee77c",
   "metadata": {},
   "source": [
    "### 3.5 - Analyzing the Decision Tree"
   ]
  },
  {
   "cell_type": "markdown",
   "id": "1b71d8b0-9775-4fee-adc9-515a621885ea",
   "metadata": {},
   "source": [
    "The importance for each of the 5 features of the dataset:"
   ]
  },
  {
   "cell_type": "code",
   "execution_count": 22,
   "id": "e19ae8e7-e928-4500-9ebc-3dddbe797978",
   "metadata": {},
   "outputs": [
    {
     "data": {
      "text/plain": [
       "array([0.83108941, 0.        , 0.16891059, 0.        , 0.        ])"
      ]
     },
     "execution_count": 22,
     "metadata": {},
     "output_type": "execute_result"
    }
   ],
   "source": [
    "tree.feature_importances_"
   ]
  },
  {
   "cell_type": "code",
   "execution_count": 23,
   "id": "5f9fe4d9-fa21-4d70-87f7-17a45c1599b9",
   "metadata": {},
   "outputs": [
    {
     "data": {
      "image/png": "[encoded data removed]",
      "text/plain": [
       "<Figure size 640x480 with 1 Axes>"
      ]
     },
     "metadata": {},
     "output_type": "display_data"
    }
   ],
   "source": [
    "n_feature = len(selected_features)\n",
    "plt.barh(range(n_feature), tree.feature_importances_, align='center')\n",
    "plt.yticks(np.arange(n_feature), selected_features)\n",
    "plt.xlabel('Feature Importance')\n",
    "plt.ylabel('Feature')\n",
    "plt.show()"
   ]
  },
  {
   "cell_type": "markdown",
   "id": "216ca69f-56a1-4d68-b391-f8e4e66c1c0d",
   "metadata": {},
   "source": [
    "### 3.6 - Predict\n",
    "\n",
    "### 3.6.1 Class Malignant\n",
    "\n",
    "Let's make a prediction for a single sample with the class malignant:"
   ]
  },
  {
   "cell_type": "code",
   "execution_count": 24,
   "id": "57b6c9ff-63c7-4a04-8a69-59e06cce1034",
   "metadata": {},
   "outputs": [],
   "source": [
    "# Make a dataframe with one sample\n",
    "single_sample_malignant = pd.DataFrame([X_test[4]], columns=selected_features)"
   ]
  },
  {
   "cell_type": "code",
   "execution_count": 25,
   "id": "cf0f3114-cf71-48e4-ad7b-5912a2bffd94",
   "metadata": {},
   "outputs": [
    {
     "data": {
      "text/html": [
       "<div>\n",
       "<style scoped>\n",
       "    .dataframe tbody tr th:only-of-type {\n",
       "        vertical-align: middle;\n",
       "    }\n",
       "\n",
       "    .dataframe tbody tr th {\n",
       "        vertical-align: top;\n",
       "    }\n",
       "\n",
       "    .dataframe thead th {\n",
       "        text-align: right;\n",
       "    }\n",
       "</style>\n",
       "<table border=\"1\" class=\"dataframe\">\n",
       "  <thead>\n",
       "    <tr style=\"text-align: right;\">\n",
       "      <th></th>\n",
       "      <th>worst concave points</th>\n",
       "      <th>worst concavity</th>\n",
       "      <th>worst radius</th>\n",
       "      <th>mean symmetry</th>\n",
       "      <th>worst symmetry</th>\n",
       "    </tr>\n",
       "  </thead>\n",
       "  <tbody>\n",
       "    <tr>\n",
       "      <th>0</th>\n",
       "      <td>0.1445</td>\n",
       "      <td>0.3158</td>\n",
       "      <td>24.22</td>\n",
       "      <td>0.1467</td>\n",
       "      <td>0.2238</td>\n",
       "    </tr>\n",
       "  </tbody>\n",
       "</table>\n",
       "</div>"
      ],
      "text/plain": [
       "   worst concave points  worst concavity  worst radius  mean symmetry  \\\n",
       "0                0.1445           0.3158         24.22         0.1467   \n",
       "\n",
       "   worst symmetry  \n",
       "0          0.2238  "
      ]
     },
     "execution_count": 25,
     "metadata": {},
     "output_type": "execute_result"
    }
   ],
   "source": [
    "single_sample_malignant"
   ]
  },
  {
   "cell_type": "code",
   "execution_count": 26,
   "id": "262fac3a-f671-44c9-bae7-7cb95ef7abda",
   "metadata": {},
   "outputs": [
    {
     "name": "stdout",
     "output_type": "stream",
     "text": [
      "0\n"
     ]
    }
   ],
   "source": [
    "# print the class of the sample\n",
    "# remember: 0 - malignant, 1 - benign\n",
    "print(y_test[4])"
   ]
  },
  {
   "cell_type": "code",
   "execution_count": 27,
   "id": "92a4d548-8c4d-454e-82d7-0df839d9d930",
   "metadata": {},
   "outputs": [
    {
     "name": "stdout",
     "output_type": "stream",
     "text": [
      "[0]\n"
     ]
    },
    {
     "name": "stderr",
     "output_type": "stream",
     "text": [
      "C:\\Users\\noemi\\.conda\\envs\\KI-Seminarkurs\\Lib\\site-packages\\sklearn\\base.py:457: UserWarning: X has feature names, but DecisionTreeClassifier was fitted without feature names\n",
      "  warnings.warn(\n"
     ]
    }
   ],
   "source": [
    "# Let the tree make a prediction\n",
    "print(tree.predict(single_sample_malignant))"
   ]
  },
  {
   "cell_type": "markdown",
   "id": "b6d7f41e-ee80-4cb8-89c7-fda3d9e597e5",
   "metadata": {},
   "source": [
    "The predicted class is 0! As is the original label of this sample. This means our best decision tree classified a sample it has not seen before correctly."
   ]
  },
  {
   "cell_type": "markdown",
   "id": "669ab6b5-da76-4a19-b694-cf043e262003",
   "metadata": {},
   "source": [
    "#### 3.6.2 Class Benign\n",
    "\n",
    "Now let's make a prediction for a single sample with the class benign:"
   ]
  },
  {
   "cell_type": "code",
   "execution_count": 28,
   "id": "68e0619b-c4a0-483b-b4d9-6187fd6c1010",
   "metadata": {},
   "outputs": [],
   "source": [
    "# Make a dataframe with one sample\n",
    "single_sample_benign = pd.DataFrame([X_test[0]], columns=selected_features)"
   ]
  },
  {
   "cell_type": "code",
   "execution_count": 29,
   "id": "06661c37-6ef8-4911-a675-6fcb3f8ba192",
   "metadata": {},
   "outputs": [
    {
     "data": {
      "text/html": [
       "<div>\n",
       "<style scoped>\n",
       "    .dataframe tbody tr th:only-of-type {\n",
       "        vertical-align: middle;\n",
       "    }\n",
       "\n",
       "    .dataframe tbody tr th {\n",
       "        vertical-align: top;\n",
       "    }\n",
       "\n",
       "    .dataframe thead th {\n",
       "        text-align: right;\n",
       "    }\n",
       "</style>\n",
       "<table border=\"1\" class=\"dataframe\">\n",
       "  <thead>\n",
       "    <tr style=\"text-align: right;\">\n",
       "      <th></th>\n",
       "      <th>worst concave points</th>\n",
       "      <th>worst concavity</th>\n",
       "      <th>worst radius</th>\n",
       "      <th>mean symmetry</th>\n",
       "      <th>worst symmetry</th>\n",
       "    </tr>\n",
       "  </thead>\n",
       "  <tbody>\n",
       "    <tr>\n",
       "      <th>0</th>\n",
       "      <td>0.1284</td>\n",
       "      <td>0.1935</td>\n",
       "      <td>15.11</td>\n",
       "      <td>0.1714</td>\n",
       "      <td>0.2849</td>\n",
       "    </tr>\n",
       "  </tbody>\n",
       "</table>\n",
       "</div>"
      ],
      "text/plain": [
       "   worst concave points  worst concavity  worst radius  mean symmetry  \\\n",
       "0                0.1284           0.1935         15.11         0.1714   \n",
       "\n",
       "   worst symmetry  \n",
       "0          0.2849  "
      ]
     },
     "execution_count": 29,
     "metadata": {},
     "output_type": "execute_result"
    }
   ],
   "source": [
    "single_sample_benign"
   ]
  },
  {
   "cell_type": "code",
   "execution_count": 30,
   "id": "f840dd1e-f8aa-4739-9544-8d386c7e539e",
   "metadata": {},
   "outputs": [
    {
     "name": "stdout",
     "output_type": "stream",
     "text": [
      "1\n"
     ]
    }
   ],
   "source": [
    "# print the class of the sample\n",
    "# remember: 0 - malignant, 1 - benign\n",
    "print(y_test[0])"
   ]
  },
  {
   "cell_type": "code",
   "execution_count": 31,
   "id": "3747eba7-eb79-4124-a335-1bcfba137167",
   "metadata": {},
   "outputs": [
    {
     "name": "stdout",
     "output_type": "stream",
     "text": [
      "[1]\n"
     ]
    },
    {
     "name": "stderr",
     "output_type": "stream",
     "text": [
      "C:\\Users\\noemi\\.conda\\envs\\KI-Seminarkurs\\Lib\\site-packages\\sklearn\\base.py:457: UserWarning: X has feature names, but DecisionTreeClassifier was fitted without feature names\n",
      "  warnings.warn(\n"
     ]
    }
   ],
   "source": [
    "# Let the tree make a prediction\n",
    "print(tree.predict(single_sample_benign))"
   ]
  },
  {
   "cell_type": "markdown",
   "id": "4856ad3c-8027-407e-92f4-edff8b95179d",
   "metadata": {},
   "source": [
    "Our classification tree again classifies a sample from the test set correctly as benign."
   ]
  },
  {
   "cell_type": "markdown",
   "id": "649880f5-2cfe-4fc8-a22f-201b83890dc9",
   "metadata": {},
   "source": [
    "## 4 - KNN\n",
    "### 4.1 - Import"
   ]
  },
  {
   "cell_type": "code",
   "execution_count": 32,
   "id": "b5e265e8-4a16-45de-b4bd-695d6b647f7c",
   "metadata": {},
   "outputs": [],
   "source": [
    "from sklearn.neighbors import KNeighborsClassifier"
   ]
  },
  {
   "cell_type": "code",
   "execution_count": 33,
   "id": "bb23df62-8d3a-4778-9a02-5e5d89e91d60",
   "metadata": {},
   "outputs": [],
   "source": [
    "model = KNeighborsClassifier(n_neighbors=3)"
   ]
  },
  {
   "cell_type": "code",
   "execution_count": 34,
   "id": "6f7b1bb7-6aef-486b-af9f-1e5465e53006",
   "metadata": {},
   "outputs": [
    {
     "data": {
      "text/html": [
       "<style>#sk-container-id-1 {color: black;}#sk-container-id-1 pre{padding: 0;}#sk-container-id-1 div.sk-toggleable {background-color: white;}#sk-container-id-1 label.sk-toggleable__label {cursor: pointer;display: block;width: 100%;margin-bottom: 0;padding: 0.3em;box-sizing: border-box;text-align: center;}#sk-container-id-1 label.sk-toggleable__label-arrow:before {content: \"▸\";float: left;margin-right: 0.25em;color: #696969;}#sk-container-id-1 label.sk-toggleable__label-arrow:hover:before {color: black;}#sk-container-id-1 div.sk-estimator:hover label.sk-toggleable__label-arrow:before {color: black;}#sk-container-id-1 div.sk-toggleable__content {max-height: 0;max-width: 0;overflow: hidden;text-align: left;background-color: #f0f8ff;}#sk-container-id-1 div.sk-toggleable__content pre {margin: 0.2em;color: black;border-radius: 0.25em;background-color: #f0f8ff;}#sk-container-id-1 input.sk-toggleable__control:checked~div.sk-toggleable__content {max-height: 200px;max-width: 100%;overflow: auto;}#sk-container-id-1 input.sk-toggleable__control:checked~label.sk-toggleable__label-arrow:before {content: \"▾\";}#sk-container-id-1 div.sk-estimator input.sk-toggleable__control:checked~label.sk-toggleable__label {background-color: #d4ebff;}#sk-container-id-1 div.sk-label input.sk-toggleable__control:checked~label.sk-toggleable__label {background-color: #d4ebff;}#sk-container-id-1 input.sk-hidden--visually {border: 0;clip: rect(1px 1px 1px 1px);clip: rect(1px, 1px, 1px, 1px);height: 1px;margin: -1px;overflow: hidden;padding: 0;position: absolute;width: 1px;}#sk-container-id-1 div.sk-estimator {font-family: monospace;background-color: #f0f8ff;border: 1px dotted black;border-radius: 0.25em;box-sizing: border-box;margin-bottom: 0.5em;}#sk-container-id-1 div.sk-estimator:hover {background-color: #d4ebff;}#sk-container-id-1 div.sk-parallel-item::after {content: \"\";width: 100%;border-bottom: 1px solid gray;flex-grow: 1;}#sk-container-id-1 div.sk-label:hover label.sk-toggleable__label {background-color: #d4ebff;}#sk-container-id-1 div.sk-serial::before {content: \"\";position: absolute;border-left: 1px solid gray;box-sizing: border-box;top: 0;bottom: 0;left: 50%;z-index: 0;}#sk-container-id-1 div.sk-serial {display: flex;flex-direction: column;align-items: center;background-color: white;padding-right: 0.2em;padding-left: 0.2em;position: relative;}#sk-container-id-1 div.sk-item {position: relative;z-index: 1;}#sk-container-id-1 div.sk-parallel {display: flex;align-items: stretch;justify-content: center;background-color: white;position: relative;}#sk-container-id-1 div.sk-item::before, #sk-container-id-1 div.sk-parallel-item::before {content: \"\";position: absolute;border-left: 1px solid gray;box-sizing: border-box;top: 0;bottom: 0;left: 50%;z-index: -1;}#sk-container-id-1 div.sk-parallel-item {display: flex;flex-direction: column;z-index: 1;position: relative;background-color: white;}#sk-container-id-1 div.sk-parallel-item:first-child::after {align-self: flex-end;width: 50%;}#sk-container-id-1 div.sk-parallel-item:last-child::after {align-self: flex-start;width: 50%;}#sk-container-id-1 div.sk-parallel-item:only-child::after {width: 0;}#sk-container-id-1 div.sk-dashed-wrapped {border: 1px dashed gray;margin: 0 0.4em 0.5em 0.4em;box-sizing: border-box;padding-bottom: 0.4em;background-color: white;}#sk-container-id-1 div.sk-label label {font-family: monospace;font-weight: bold;display: inline-block;line-height: 1.2em;}#sk-container-id-1 div.sk-label-container {text-align: center;}#sk-container-id-1 div.sk-container {/* jupyter's `normalize.less` sets `[hidden] { display: none; }` but bootstrap.min.css set `[hidden] { display: none !important; }` so we also need the `!important` here to be able to override the default hidden behavior on the sphinx rendered scikit-learn.org. See: https://github.com/scikit-learn/scikit-learn/issues/21755 */display: inline-block !important;position: relative;}#sk-container-id-1 div.sk-text-repr-fallback {display: none;}</style><div id=\"sk-container-id-1\" class=\"sk-top-container\"><div class=\"sk-text-repr-fallback\"><pre>KNeighborsClassifier(n_neighbors=3)</pre><b>In a Jupyter environment, please rerun this cell to show the HTML representation or trust the notebook. <br />On GitHub, the HTML representation is unable to render, please try loading this page with nbviewer.org.</b></div><div class=\"sk-container\" hidden><div class=\"sk-item\"><div class=\"sk-estimator sk-toggleable\"><input class=\"sk-toggleable__control sk-hidden--visually\" id=\"sk-estimator-id-1\" type=\"checkbox\" checked><label for=\"sk-estimator-id-1\" class=\"sk-toggleable__label sk-toggleable__label-arrow\">KNeighborsClassifier</label><div class=\"sk-toggleable__content\"><pre>KNeighborsClassifier(n_neighbors=3)</pre></div></div></div></div></div>"
      ],
      "text/plain": [
       "KNeighborsClassifier(n_neighbors=3)"
      ]
     },
     "execution_count": 34,
     "metadata": {},
     "output_type": "execute_result"
    }
   ],
   "source": [
    "model.fit(X_train, y_train)"
   ]
  },
  {
   "cell_type": "code",
   "execution_count": 35,
   "id": "f7e9abc2-08cf-4e06-bf2c-f42bdc6ef0a7",
   "metadata": {},
   "outputs": [
    {
     "data": {
      "text/plain": [
       "0.9473684210526315"
      ]
     },
     "execution_count": 35,
     "metadata": {},
     "output_type": "execute_result"
    }
   ],
   "source": [
    "model.score(X_test, y_test)"
   ]
  },
  {
   "cell_type": "markdown",
   "id": "366abfdb-6eed-4ab7-89ea-24e82aca85c2",
   "metadata": {},
   "source": [
    "### 4.2 - Trying out different values of $k$"
   ]
  },
  {
   "cell_type": "code",
   "execution_count": 36,
   "id": "834349f9-94c0-4364-8e8a-20ff23f1b4e2",
   "metadata": {},
   "outputs": [
    {
     "data": {
      "text/plain": [
       "<matplotlib.legend.Legend at 0x22dbe56e610>"
      ]
     },
     "execution_count": 36,
     "metadata": {},
     "output_type": "execute_result"
    },
    {
     "data": {
      "image/png": "[encoded data removed]",
      "text/plain": [
       "<Figure size 640x480 with 1 Axes>"
      ]
     },
     "metadata": {},
     "output_type": "display_data"
    }
   ],
   "source": [
    "training_accuracy = []\n",
    "val_accuracy = []\n",
    "\n",
    "#try KNN for different values of k (1 to 15)\n",
    "neighbors_setting = range(1, 15)\n",
    "\n",
    "for n_neighbors in neighbors_setting:\n",
    "    knn = KNeighborsClassifier(n_neighbors=n_neighbors)\n",
    "    knn.fit(X_train,y_train)\n",
    "    training_accuracy.append(knn.score(X_train, y_train))\n",
    "    val_accuracy.append(knn.score(X_val, y_val))\n",
    " \n",
    "plt.plot(neighbors_setting, training_accuracy, label='Training Set Accuracy')\n",
    "plt.plot(neighbors_setting, val_accuracy, label='Validation Set Accuracy')\n",
    "plt.ylabel('Accuracy')\n",
    "plt.xlabel('Value of k')\n",
    "plt.legend()"
   ]
  },
  {
   "cell_type": "code",
   "execution_count": 37,
   "id": "29e81c71-f048-422c-9c6a-0bf7bf2fd819",
   "metadata": {},
   "outputs": [
    {
     "name": "stdout",
     "output_type": "stream",
     "text": [
      "Best accuracy on the validation set is for KNN=6: 0.956\n"
     ]
    }
   ],
   "source": [
    "print('Best accuracy on the validation set is for KNN={0}: {1:.3f}'.format(val_accuracy.index(max(val_accuracy)) + 1,  val_accuracy[val_accuracy.index(max(val_accuracy))]))"
   ]
  },
  {
   "cell_type": "markdown",
   "id": "7145819b-5e59-44c1-82ed-a8937ebfa9f1",
   "metadata": {},
   "source": [
    "### 4.3 - Calculate Accuracy for Test Set"
   ]
  },
  {
   "cell_type": "code",
   "execution_count": 38,
   "id": "8e01e257-ef5e-4fb6-85a3-3f3766ecb649",
   "metadata": {},
   "outputs": [],
   "source": [
    "knn = KNeighborsClassifier(n_neighbors=val_accuracy.index(max(val_accuracy)) + 1)\n",
    "knn.fit(X_train,y_train)\n",
    "test_accuracy = knn.score(X_test, y_test)"
   ]
  },
  {
   "cell_type": "code",
   "execution_count": 39,
   "id": "5b9b6054-cc28-446c-89f9-51b1ea90f24c",
   "metadata": {},
   "outputs": [
    {
     "name": "stdout",
     "output_type": "stream",
     "text": [
      "Accuracy on the test set for KNN=6: 0.939\n"
     ]
    }
   ],
   "source": [
    "print('Accuracy on the test set for KNN={0}: {1:.3f}'.format(val_accuracy.index(max(val_accuracy)) + 1,  test_accuracy))"
   ]
  },
  {
   "cell_type": "markdown",
   "id": "193ec760-c76d-4a3b-b2b7-ec9dddec2a6f",
   "metadata": {},
   "source": [
    "### 4.3 Predict samples\n",
    "\n",
    "Let's predict the same two samples we tried with our best decision tree:"
   ]
  },
  {
   "cell_type": "code",
   "execution_count": 40,
   "id": "e6cba181-992a-4347-b5c0-533e1e3e4d60",
   "metadata": {},
   "outputs": [
    {
     "data": {
      "text/html": [
       "<style>#sk-container-id-2 {color: black;}#sk-container-id-2 pre{padding: 0;}#sk-container-id-2 div.sk-toggleable {background-color: white;}#sk-container-id-2 label.sk-toggleable__label {cursor: pointer;display: block;width: 100%;margin-bottom: 0;padding: 0.3em;box-sizing: border-box;text-align: center;}#sk-container-id-2 label.sk-toggleable__label-arrow:before {content: \"▸\";float: left;margin-right: 0.25em;color: #696969;}#sk-container-id-2 label.sk-toggleable__label-arrow:hover:before {color: black;}#sk-container-id-2 div.sk-estimator:hover label.sk-toggleable__label-arrow:before {color: black;}#sk-container-id-2 div.sk-toggleable__content {max-height: 0;max-width: 0;overflow: hidden;text-align: left;background-color: #f0f8ff;}#sk-container-id-2 div.sk-toggleable__content pre {margin: 0.2em;color: black;border-radius: 0.25em;background-color: #f0f8ff;}#sk-container-id-2 input.sk-toggleable__control:checked~div.sk-toggleable__content {max-height: 200px;max-width: 100%;overflow: auto;}#sk-container-id-2 input.sk-toggleable__control:checked~label.sk-toggleable__label-arrow:before {content: \"▾\";}#sk-container-id-2 div.sk-estimator input.sk-toggleable__control:checked~label.sk-toggleable__label {background-color: #d4ebff;}#sk-container-id-2 div.sk-label input.sk-toggleable__control:checked~label.sk-toggleable__label {background-color: #d4ebff;}#sk-container-id-2 input.sk-hidden--visually {border: 0;clip: rect(1px 1px 1px 1px);clip: rect(1px, 1px, 1px, 1px);height: 1px;margin: -1px;overflow: hidden;padding: 0;position: absolute;width: 1px;}#sk-container-id-2 div.sk-estimator {font-family: monospace;background-color: #f0f8ff;border: 1px dotted black;border-radius: 0.25em;box-sizing: border-box;margin-bottom: 0.5em;}#sk-container-id-2 div.sk-estimator:hover {background-color: #d4ebff;}#sk-container-id-2 div.sk-parallel-item::after {content: \"\";width: 100%;border-bottom: 1px solid gray;flex-grow: 1;}#sk-container-id-2 div.sk-label:hover label.sk-toggleable__label {background-color: #d4ebff;}#sk-container-id-2 div.sk-serial::before {content: \"\";position: absolute;border-left: 1px solid gray;box-sizing: border-box;top: 0;bottom: 0;left: 50%;z-index: 0;}#sk-container-id-2 div.sk-serial {display: flex;flex-direction: column;align-items: center;background-color: white;padding-right: 0.2em;padding-left: 0.2em;position: relative;}#sk-container-id-2 div.sk-item {position: relative;z-index: 1;}#sk-container-id-2 div.sk-parallel {display: flex;align-items: stretch;justify-content: center;background-color: white;position: relative;}#sk-container-id-2 div.sk-item::before, #sk-container-id-2 div.sk-parallel-item::before {content: \"\";position: absolute;border-left: 1px solid gray;box-sizing: border-box;top: 0;bottom: 0;left: 50%;z-index: -1;}#sk-container-id-2 div.sk-parallel-item {display: flex;flex-direction: column;z-index: 1;position: relative;background-color: white;}#sk-container-id-2 div.sk-parallel-item:first-child::after {align-self: flex-end;width: 50%;}#sk-container-id-2 div.sk-parallel-item:last-child::after {align-self: flex-start;width: 50%;}#sk-container-id-2 div.sk-parallel-item:only-child::after {width: 0;}#sk-container-id-2 div.sk-dashed-wrapped {border: 1px dashed gray;margin: 0 0.4em 0.5em 0.4em;box-sizing: border-box;padding-bottom: 0.4em;background-color: white;}#sk-container-id-2 div.sk-label label {font-family: monospace;font-weight: bold;display: inline-block;line-height: 1.2em;}#sk-container-id-2 div.sk-label-container {text-align: center;}#sk-container-id-2 div.sk-container {/* jupyter's `normalize.less` sets `[hidden] { display: none; }` but bootstrap.min.css set `[hidden] { display: none !important; }` so we also need the `!important` here to be able to override the default hidden behavior on the sphinx rendered scikit-learn.org. See: https://github.com/scikit-learn/scikit-learn/issues/21755 */display: inline-block !important;position: relative;}#sk-container-id-2 div.sk-text-repr-fallback {display: none;}</style><div id=\"sk-container-id-2\" class=\"sk-top-container\"><div class=\"sk-text-repr-fallback\"><pre>KNeighborsClassifier(n_neighbors=6)</pre><b>In a Jupyter environment, please rerun this cell to show the HTML representation or trust the notebook. <br />On GitHub, the HTML representation is unable to render, please try loading this page with nbviewer.org.</b></div><div class=\"sk-container\" hidden><div class=\"sk-item\"><div class=\"sk-estimator sk-toggleable\"><input class=\"sk-toggleable__control sk-hidden--visually\" id=\"sk-estimator-id-2\" type=\"checkbox\" checked><label for=\"sk-estimator-id-2\" class=\"sk-toggleable__label sk-toggleable__label-arrow\">KNeighborsClassifier</label><div class=\"sk-toggleable__content\"><pre>KNeighborsClassifier(n_neighbors=6)</pre></div></div></div></div></div>"
      ],
      "text/plain": [
       "KNeighborsClassifier(n_neighbors=6)"
      ]
     },
     "execution_count": 40,
     "metadata": {},
     "output_type": "execute_result"
    }
   ],
   "source": [
    "# Train best KNN model\n",
    "knn = KNeighborsClassifier(n_neighbors=[*range(1, 15)][val_accuracy.index(max(val_accuracy))])\n",
    "knn.fit(X_train, y_train)"
   ]
  },
  {
   "cell_type": "markdown",
   "id": "7ea69171-0676-4606-813f-02280769f943",
   "metadata": {},
   "source": [
    "#### 4.3.1 Class Malignant"
   ]
  },
  {
   "cell_type": "code",
   "execution_count": 41,
   "id": "f03b9273-7b10-4297-bab0-9601119477c8",
   "metadata": {},
   "outputs": [
    {
     "data": {
      "text/html": [
       "<div>\n",
       "<style scoped>\n",
       "    .dataframe tbody tr th:only-of-type {\n",
       "        vertical-align: middle;\n",
       "    }\n",
       "\n",
       "    .dataframe tbody tr th {\n",
       "        vertical-align: top;\n",
       "    }\n",
       "\n",
       "    .dataframe thead th {\n",
       "        text-align: right;\n",
       "    }\n",
       "</style>\n",
       "<table border=\"1\" class=\"dataframe\">\n",
       "  <thead>\n",
       "    <tr style=\"text-align: right;\">\n",
       "      <th></th>\n",
       "      <th>worst concave points</th>\n",
       "      <th>worst concavity</th>\n",
       "      <th>worst radius</th>\n",
       "      <th>mean symmetry</th>\n",
       "      <th>worst symmetry</th>\n",
       "    </tr>\n",
       "  </thead>\n",
       "  <tbody>\n",
       "    <tr>\n",
       "      <th>0</th>\n",
       "      <td>0.1445</td>\n",
       "      <td>0.3158</td>\n",
       "      <td>24.22</td>\n",
       "      <td>0.1467</td>\n",
       "      <td>0.2238</td>\n",
       "    </tr>\n",
       "  </tbody>\n",
       "</table>\n",
       "</div>"
      ],
      "text/plain": [
       "   worst concave points  worst concavity  worst radius  mean symmetry  \\\n",
       "0                0.1445           0.3158         24.22         0.1467   \n",
       "\n",
       "   worst symmetry  \n",
       "0          0.2238  "
      ]
     },
     "execution_count": 41,
     "metadata": {},
     "output_type": "execute_result"
    }
   ],
   "source": [
    "single_sample_malignant"
   ]
  },
  {
   "cell_type": "code",
   "execution_count": 42,
   "id": "fada3a6b-df61-4d4b-9f13-b0ff745b23b3",
   "metadata": {},
   "outputs": [
    {
     "data": {
      "text/plain": [
       "array([0])"
      ]
     },
     "execution_count": 42,
     "metadata": {},
     "output_type": "execute_result"
    }
   ],
   "source": [
    "knn.predict([X_test[4]])"
   ]
  },
  {
   "cell_type": "code",
   "execution_count": 43,
   "id": "2c3d83cb-cd83-404c-93d7-3d89b2e500a1",
   "metadata": {},
   "outputs": [
    {
     "data": {
      "text/plain": [
       "0"
      ]
     },
     "execution_count": 43,
     "metadata": {},
     "output_type": "execute_result"
    }
   ],
   "source": [
    "y_test[4]"
   ]
  },
  {
   "cell_type": "markdown",
   "id": "b4d60fb9-274c-4197-9c16-e5322fb60f71",
   "metadata": {},
   "source": [
    "Correct!"
   ]
  },
  {
   "cell_type": "markdown",
   "id": "c38c6456-5f36-40f0-83cd-03b1cc24ee76",
   "metadata": {},
   "source": [
    "#### 4.3.2 Class Benign"
   ]
  },
  {
   "cell_type": "code",
   "execution_count": 44,
   "id": "d82c14d3-30ae-4d09-aa8b-12a58baf8515",
   "metadata": {},
   "outputs": [
    {
     "data": {
      "text/html": [
       "<div>\n",
       "<style scoped>\n",
       "    .dataframe tbody tr th:only-of-type {\n",
       "        vertical-align: middle;\n",
       "    }\n",
       "\n",
       "    .dataframe tbody tr th {\n",
       "        vertical-align: top;\n",
       "    }\n",
       "\n",
       "    .dataframe thead th {\n",
       "        text-align: right;\n",
       "    }\n",
       "</style>\n",
       "<table border=\"1\" class=\"dataframe\">\n",
       "  <thead>\n",
       "    <tr style=\"text-align: right;\">\n",
       "      <th></th>\n",
       "      <th>worst concave points</th>\n",
       "      <th>worst concavity</th>\n",
       "      <th>worst radius</th>\n",
       "      <th>mean symmetry</th>\n",
       "      <th>worst symmetry</th>\n",
       "    </tr>\n",
       "  </thead>\n",
       "  <tbody>\n",
       "    <tr>\n",
       "      <th>0</th>\n",
       "      <td>0.1284</td>\n",
       "      <td>0.1935</td>\n",
       "      <td>15.11</td>\n",
       "      <td>0.1714</td>\n",
       "      <td>0.2849</td>\n",
       "    </tr>\n",
       "  </tbody>\n",
       "</table>\n",
       "</div>"
      ],
      "text/plain": [
       "   worst concave points  worst concavity  worst radius  mean symmetry  \\\n",
       "0                0.1284           0.1935         15.11         0.1714   \n",
       "\n",
       "   worst symmetry  \n",
       "0          0.2849  "
      ]
     },
     "execution_count": 44,
     "metadata": {},
     "output_type": "execute_result"
    }
   ],
   "source": [
    "single_sample_benign"
   ]
  },
  {
   "cell_type": "code",
   "execution_count": 45,
   "id": "91a46aa4-578d-404c-b9c7-af051589f347",
   "metadata": {},
   "outputs": [
    {
     "data": {
      "text/plain": [
       "array([1])"
      ]
     },
     "execution_count": 45,
     "metadata": {},
     "output_type": "execute_result"
    }
   ],
   "source": [
    "knn.predict([X_test[0]])"
   ]
  },
  {
   "cell_type": "code",
   "execution_count": 46,
   "id": "bba5ac81-064b-47ca-bc51-2e93bdb8950d",
   "metadata": {},
   "outputs": [
    {
     "data": {
      "text/plain": [
       "1"
      ]
     },
     "execution_count": 46,
     "metadata": {},
     "output_type": "execute_result"
    }
   ],
   "source": [
    "y_test[0]"
   ]
  },
  {
   "cell_type": "markdown",
   "id": "58e5bf12-31a8-4f22-b8f4-b29afe1a1627",
   "metadata": {},
   "source": [
    "Let's try to visualize the datapoints and the decision boundary of our model. As the data has five dimensions, we will only be visualizing two."
   ]
  },
  {
   "cell_type": "code",
   "execution_count": 47,
   "id": "3abcace2-79c8-42a5-82d6-668750142735",
   "metadata": {},
   "outputs": [
    {
     "data": {
      "image/png": "[encoded data removed]",
      "text/plain": [
       "<Figure size 640x480 with 1 Axes>"
      ]
     },
     "metadata": {},
     "output_type": "display_data"
    }
   ],
   "source": [
    "#import numpy as np\n",
    "#import matplotlib.pyplot as plt\n",
    "from matplotlib.colors import ListedColormap\n",
    "#from sklearn import neighbors, datasets\n",
    "\n",
    "n_neighbors = 3\n",
    "\n",
    "# import some data to play with\n",
    "#iris = datasets.load_iris()\n",
    "#X = iris.data[:, :2]  # we only take the first two features. We could\n",
    "                      # avoid this ugly slicing by using a two-dim dataset\n",
    "X = X_train[:, 2:5:2]\n",
    "\n",
    "#y = iris.target\n",
    "y = y_train[:]\n",
    "\n",
    "h = .2  # step size in the mesh\n",
    "\n",
    "# Create color maps\n",
    "cmap_light = ListedColormap(['#FFAAAA', '#AAFFAA', '#AAAAFF'])\n",
    "cmap_bold = ListedColormap(['#FF0000', '#00FF00', '#0000FF'])\n",
    "\n",
    "for weights in ['uniform']: #, 'distance'\n",
    "    # we create an instance of Neighbours Classifier and fit the data.\n",
    "    clf = KNeighborsClassifier(n_neighbors, weights=weights)\n",
    "    clf.fit(X, y)\n",
    "\n",
    "    # Plot the decision boundary. For that, we will assign a color to each\n",
    "    # point in the mesh [x_min, x_max]x[y_min, y_max].\n",
    "    x_min, x_max = X[:, 0].min() - 1, X[:, 0].max() + 1\n",
    "    y_min, y_max = X[:, 1].min() - 1, X[:, 1].max() + 1\n",
    "    xx, yy = np.meshgrid(np.arange(x_min, x_max, h),\n",
    "                         np.arange(y_min, y_max, h))\n",
    "    Z = clf.predict(np.c_[xx.ravel(), yy.ravel()])\n",
    "\n",
    "    # Put the result into a color plot\n",
    "    Z = Z.reshape(xx.shape)\n",
    "    plt.figure()\n",
    "    plt.pcolormesh(xx, yy, Z, cmap=cmap_light)\n",
    "\n",
    "    # Plot also the training points\n",
    "    plt.scatter(X[:, 0], X[:, 1], c=y, cmap=cmap_bold)\n",
    "    plt.xlim(xx.min(), xx.max())\n",
    "    plt.ylim(yy.min(), yy.max())\n",
    "    plt.title(\"2-Class classification (k = %i, weights = '%s')\"\n",
    "              % (n_neighbors, weights))\n",
    "\n",
    "plt.show()"
   ]
  },
  {
   "cell_type": "code",
   "execution_count": null,
   "id": "bed5cf31-1de5-4c26-86a0-4da077475407",
   "metadata": {},
   "outputs": [],
   "source": []
  }
 ],
 "metadata": {
  "kernelspec": {
   "display_name": "Python 3 (ipykernel)",
   "language": "python",
   "name": "python3"
  },
  "language_info": {
   "codemirror_mode": {
    "name": "ipython",
    "version": 3
   },
   "file_extension": ".py",
   "mimetype": "text/x-python",
   "name": "python",
   "nbconvert_exporter": "python",
   "pygments_lexer": "ipython3",
   "version": "3.8.8"
  }
 },
 "nbformat": 4,
 "nbformat_minor": 5
}
