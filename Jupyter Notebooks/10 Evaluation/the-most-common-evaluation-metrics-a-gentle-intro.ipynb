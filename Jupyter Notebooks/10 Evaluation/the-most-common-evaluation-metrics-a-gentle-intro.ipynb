{
 "cells": [
  {
   "cell_type": "markdown",
   "id": "f4bc23fe",
   "metadata": {
    "papermill": {
     "duration": 0.050097,
     "end_time": "2021-08-18T09:16:24.846346",
     "exception": false,
     "start_time": "2021-08-18T09:16:24.796249",
     "status": "completed"
    },
    "tags": []
   },
   "source": [
    "![](https://miro.medium.com/max/1400/1*FUZS9K4JPqzfXDcC83BQTw.png)"
   ]
  },
  {
   "cell_type": "markdown",
   "id": "5a2a1b4c",
   "metadata": {
    "papermill": {
     "duration": 0.052476,
     "end_time": "2021-08-18T09:16:24.949739",
     "exception": false,
     "start_time": "2021-08-18T09:16:24.897263",
     "status": "completed"
    },
    "tags": []
   },
   "source": [
    "Image Credit: https://miro.medium.com/"
   ]
  },
  {
   "cell_type": "markdown",
   "id": "ca5006ac",
   "metadata": {
    "papermill": {
     "duration": 0.04964,
     "end_time": "2021-08-18T09:16:25.050590",
     "exception": false,
     "start_time": "2021-08-18T09:16:25.000950",
     "status": "completed"
    },
    "tags": []
   },
   "source": [
    "<a id=\"toc\"></a>\n",
    "\n",
    "<h3 class=\"list-group-item list-group-item-action active\" data-toggle=\"list\" role=\"tab\" aria-controls=\"home\">Table of Contents</h3>\n",
    "    \n",
    "* [What is Evaluation Metrics?](#0)\n",
    "* [Classification Evalution Metrics](#1)\n",
    "    * [Confusion Matrix](#2)\n",
    "    * [Accuracy](#3)\n",
    "    * [Precision & Recall](#4)\n",
    "    * [F Score (F Measure)](#5)\n",
    "    * [ROC Curve (AUC)](#6) <br>\n",
    "<br>\n",
    "* [Regression Evaluation Metrics](#8)\n",
    "    * [Mean Absolute Error(MAE)](#9)\n",
    "    * [Mean Squared Error (MSE)](#10)    \n",
    "    * [Root Mean Squared Error (RMSE)](#11)\n",
    "    * [R Squared (R2)](#12)   <br>\n",
    "<br>\n",
    "* [Conclusion](#13)\n",
    "* [References & Further Reading](#14)"
   ]
  },
  {
   "cell_type": "markdown",
   "id": "e0cb3a65",
   "metadata": {
    "papermill": {
     "duration": 0.050711,
     "end_time": "2021-08-18T09:16:25.152222",
     "exception": false,
     "start_time": "2021-08-18T09:16:25.101511",
     "status": "completed"
    },
    "tags": []
   },
   "source": [
    "<a id=\"0\"></a>\n",
    "<font color=\"lightseagreen\" size=+2.5><b>What is Evaluation Metrics? & Why We Need Them?</b></font>\n",
    "\n",
    "<a href=\"#toc\" class=\"btn btn-primary btn-sm\" role=\"button\" aria-pressed=\"true\" style=\"color:white\" data-toggle=\"popover\">Table of Contents</a>\n"
   ]
  },
  {
   "cell_type": "markdown",
   "id": "c2a8433c",
   "metadata": {
    "papermill": {
     "duration": 0.049842,
     "end_time": "2021-08-18T09:16:25.252359",
     "exception": false,
     "start_time": "2021-08-18T09:16:25.202517",
     "status": "completed"
    },
    "tags": []
   },
   "source": [
    "![](https://www.magazine.etnfocus.com/wp-content/uploads/2017/08/metrics.jpg)"
   ]
  },
  {
   "cell_type": "markdown",
   "id": "02846636",
   "metadata": {
    "papermill": {
     "duration": 0.049422,
     "end_time": "2021-08-18T09:16:25.351709",
     "exception": false,
     "start_time": "2021-08-18T09:16:25.302287",
     "status": "completed"
    },
    "tags": []
   },
   "source": [
    "image credit: https://www.magazine.etnfocus.com"
   ]
  },
  {
   "cell_type": "markdown",
   "id": "ae68110f",
   "metadata": {
    "papermill": {
     "duration": 0.049504,
     "end_time": "2021-08-18T09:16:25.451589",
     "exception": false,
     "start_time": "2021-08-18T09:16:25.402085",
     "status": "completed"
    },
    "tags": []
   },
   "source": [
    "- In machine learning, evaluation metrics are used to measure the performance of machine learning models/algorithms.\n",
    "- Evaluation metrics are crucial. Based on the model performance we are giving decisions.\n",
    "- We should remember that we are not just only looking for a better model, also looking for our end goal.\n",
    "- Let's imagine our end goal is to make an application to detect fraud.\n",
    "- We develop our model based on the data in hand, which contains 99.5% non-fraud cases and %.5 fraud cases.\n",
    "- Without using the correct evaluation metric on this imbalanced data we will deploy the model with poor performance and prediction on the real data."
   ]
  },
  {
   "cell_type": "markdown",
   "id": "4aa7c9c0",
   "metadata": {
    "papermill": {
     "duration": 0.049503,
     "end_time": "2021-08-18T09:16:25.551121",
     "exception": false,
     "start_time": "2021-08-18T09:16:25.501618",
     "status": "completed"
    },
    "tags": []
   },
   "source": [
    "- In this study we will divide our evaluation metrics into two categories.\n",
    "    - Classification Evaluation Metrics\n",
    "    - Regression Evaluation Metrics\n",
    " \n",
    " - Ok let's start."
   ]
  },
  {
   "cell_type": "markdown",
   "id": "bc2929c5",
   "metadata": {
    "papermill": {
     "duration": 0.049476,
     "end_time": "2021-08-18T09:16:25.650879",
     "exception": false,
     "start_time": "2021-08-18T09:16:25.601403",
     "status": "completed"
    },
    "tags": []
   },
   "source": [
    "![](https://www.negotiations.com/wp-content/uploads/2017/05/negotiation-success.jpg)"
   ]
  },
  {
   "cell_type": "markdown",
   "id": "d18e0322",
   "metadata": {
    "papermill": {
     "duration": 0.049705,
     "end_time": "2021-08-18T09:16:25.752472",
     "exception": false,
     "start_time": "2021-08-18T09:16:25.702767",
     "status": "completed"
    },
    "tags": []
   },
   "source": [
    "image credit: https://www.negotiations.com"
   ]
  },
  {
   "cell_type": "markdown",
   "id": "193e3f1e",
   "metadata": {
    "papermill": {
     "duration": 0.049469,
     "end_time": "2021-08-18T09:16:25.851777",
     "exception": false,
     "start_time": "2021-08-18T09:16:25.802308",
     "status": "completed"
    },
    "tags": []
   },
   "source": [
    "<a id=\"1\"></a>\n",
    "<font color=\"lightseagreen\" size=+2.5><b>Classification Evaluation Metrics</b></font>\n",
    "\n",
    "<a href=\"#toc\" class=\"btn btn-primary btn-sm\" role=\"button\" aria-pressed=\"true\" style=\"color:white\" data-toggle=\"popover\">Table of Contents</a>"
   ]
  },
  {
   "cell_type": "markdown",
   "id": "e1434f5c",
   "metadata": {
    "papermill": {
     "duration": 0.049721,
     "end_time": "2021-08-18T09:16:25.951744",
     "exception": false,
     "start_time": "2021-08-18T09:16:25.902023",
     "status": "completed"
    },
    "tags": []
   },
   "source": [
    "- Classification problems are the most common problems in the Machine Learning.\n",
    "- It would be a good idea to refresh our knowledge on the classification evaluation metrics.\n",
    "- In the classification part of the study, we will use Credit Card Fraud dataset."
   ]
  },
  {
   "cell_type": "code",
   "execution_count": 1,
   "id": "84361729",
   "metadata": {
    "_kg_hide-input": true,
    "papermill": {
     "duration": 4.336464,
     "end_time": "2021-08-18T09:16:30.339256",
     "exception": false,
     "start_time": "2021-08-18T09:16:26.002792",
     "status": "completed"
    },
    "tags": []
   },
   "outputs": [],
   "source": [
    "import pandas as pd \n",
    "import numpy as np \n",
    "import matplotlib.pyplot as plt \n",
    "\n",
    "from sklearn.model_selection import train_test_split \n",
    "from sklearn.linear_model import LinearRegression,LogisticRegression\n",
    "from sklearn.metrics import mean_squared_error,classification_report,make_scorer,accuracy_score,RocCurveDisplay,auc,roc_curve, mean_absolute_error,r2_score\n",
    "from sklearn.dummy import DummyClassifier\n",
    "\n",
    "\n",
    "import warnings\n",
    "warnings.filterwarnings(\"ignore\")"
   ]
  },
  {
   "cell_type": "markdown",
   "id": "480d5f82",
   "metadata": {
    "papermill": {
     "duration": 0.051285,
     "end_time": "2021-08-18T09:16:30.442161",
     "exception": false,
     "start_time": "2021-08-18T09:16:30.390876",
     "status": "completed"
    },
    "tags": []
   },
   "source": [
    "<a id=\"2\"></a>\n",
    "<font color=\"lightseagreen\" size=+1.5><b>Confusion Matrix</b></font>\n",
    "\n",
    "<a href=\"#toc\" class=\"btn btn-primary btn-sm\" role=\"button\" aria-pressed=\"true\" style=\"color:white\" data-toggle=\"popover\">Table of Contents</a>"
   ]
  },
  {
   "cell_type": "markdown",
   "id": "a3d46874",
   "metadata": {
    "papermill": {
     "duration": 0.050448,
     "end_time": "2021-08-18T09:16:30.543391",
     "exception": false,
     "start_time": "2021-08-18T09:16:30.492943",
     "status": "completed"
    },
    "tags": []
   },
   "source": [
    "- Before starting the evaluation metrics, we should be on the same page.\n",
    "- Let's refresh the basics."
   ]
  },
  {
   "cell_type": "markdown",
   "id": "8f58e0f0",
   "metadata": {
    "papermill": {
     "duration": 0.050176,
     "end_time": "2021-08-18T09:16:30.644695",
     "exception": false,
     "start_time": "2021-08-18T09:16:30.594519",
     "status": "completed"
    },
    "tags": []
   },
   "source": [
    "![](https://www.superheuristics.com/wp-content/uploads/2021/03/Blog_image_confusion-matrix.png)"
   ]
  },
  {
   "cell_type": "markdown",
   "id": "11280931",
   "metadata": {
    "papermill": {
     "duration": 0.050294,
     "end_time": "2021-08-18T09:16:30.745424",
     "exception": false,
     "start_time": "2021-08-18T09:16:30.695130",
     "status": "completed"
    },
    "tags": []
   },
   "source": [
    "image credit: https://www.superheuristics.com"
   ]
  },
  {
   "cell_type": "markdown",
   "id": "49d0ffe0",
   "metadata": {
    "papermill": {
     "duration": 0.050077,
     "end_time": "2021-08-18T09:16:30.846113",
     "exception": false,
     "start_time": "2021-08-18T09:16:30.796036",
     "status": "completed"
    },
    "tags": []
   },
   "source": [
    "- **True Positive**: Predicted vale is positive and we predicted correctly. \n",
    "- Real Transaction --> Fraud  and our model correctly predict as fraud."
   ]
  },
  {
   "cell_type": "markdown",
   "id": "8f4f91c8",
   "metadata": {
    "papermill": {
     "duration": 0.050135,
     "end_time": "2021-08-18T09:16:30.946570",
     "exception": false,
     "start_time": "2021-08-18T09:16:30.896435",
     "status": "completed"
    },
    "tags": []
   },
   "source": [
    "- **False Negative**: Predicted value is negative, but actual value is positive. Our prediction is false.\n",
    "   - We predict non-fraud, benign, but actual value is fraud or malign.\n",
    "   - Which is also called **Type 2 error**."
   ]
  },
  {
   "cell_type": "markdown",
   "id": "d61f406d",
   "metadata": {
    "papermill": {
     "duration": 0.050225,
     "end_time": "2021-08-18T09:16:31.047679",
     "exception": false,
     "start_time": "2021-08-18T09:16:30.997454",
     "status": "completed"
    },
    "tags": []
   },
   "source": [
    "- **False Positive**: Our prediction is positive but actual value is negative. Our prediction is false.\n",
    "   - We predict as fraud or malign but actual value is non-fraud or benign.\n",
    "   - Which is also called as **Type 1 error**."
   ]
  },
  {
   "cell_type": "markdown",
   "id": "68bc370f",
   "metadata": {
    "papermill": {
     "duration": 0.052264,
     "end_time": "2021-08-18T09:16:31.152216",
     "exception": false,
     "start_time": "2021-08-18T09:16:31.099952",
     "status": "completed"
    },
    "tags": []
   },
   "source": [
    "- **True Negative** : We predict as negative and our prediction is correct. Actual value is negative ( non-fraud, benign, etc.)"
   ]
  },
  {
   "cell_type": "markdown",
   "id": "b2de408f",
   "metadata": {
    "papermill": {
     "duration": 0.05028,
     "end_time": "2021-08-18T09:16:31.253556",
     "exception": false,
     "start_time": "2021-08-18T09:16:31.203276",
     "status": "completed"
    },
    "tags": []
   },
   "source": [
    "<img src=\"https://www.publichealthnotes.com/wp-content/uploads/2020/04/slide_9.jpg\" width=\"600\">\n"
   ]
  },
  {
   "cell_type": "markdown",
   "id": "0bb86067",
   "metadata": {
    "papermill": {
     "duration": 0.050431,
     "end_time": "2021-08-18T09:16:31.354816",
     "exception": false,
     "start_time": "2021-08-18T09:16:31.304385",
     "status": "completed"
    },
    "tags": []
   },
   "source": [
    "image credit: https://www.publichealthnotes.com"
   ]
  },
  {
   "cell_type": "markdown",
   "id": "611de1a8",
   "metadata": {
    "execution": {
     "iopub.execute_input": "2021-08-17T09:45:04.261094Z",
     "iopub.status.busy": "2021-08-17T09:45:04.260568Z",
     "iopub.status.idle": "2021-08-17T09:45:04.275751Z",
     "shell.execute_reply": "2021-08-17T09:45:04.274188Z",
     "shell.execute_reply.started": "2021-08-17T09:45:04.260978Z"
    },
    "papermill": {
     "duration": 0.050528,
     "end_time": "2021-08-18T09:16:31.456763",
     "exception": false,
     "start_time": "2021-08-18T09:16:31.406235",
     "status": "completed"
    },
    "tags": []
   },
   "source": [
    "<a id=\"3\"></a>\n",
    "<font color=\"lightseagreen\" size=+1.5><b>Accuracy</b></font>\n",
    "\n",
    "<a href=\"#toc\" class=\"btn btn-primary btn-sm\" role=\"button\" aria-pressed=\"true\" style=\"color:white\" data-toggle=\"popover\">Table of Contents</a>"
   ]
  },
  {
   "cell_type": "markdown",
   "id": "51f60ac1",
   "metadata": {
    "papermill": {
     "duration": 0.05057,
     "end_time": "2021-08-18T09:16:31.557709",
     "exception": false,
     "start_time": "2021-08-18T09:16:31.507139",
     "status": "completed"
    },
    "tags": []
   },
   "source": [
    "- One of the most common evaluation metrics, we can see in the real world and also in the Kaggle.\n",
    "- Accuracy is better to use with balanced classification problem and when all predictions and prediction errors are equally important (for example using iris dataset. Every class has equal instances).\n",
    "\n",
    "- Balanced Data: Target has equal or almost equal number of instances.\n",
    "- Prediction Errors are  equally important: Predicting  Class A, Class B or Probability of detecting fraud or detecting non fraud\n",
    "- Is it really possible in the real life?\n",
    "- I can't say, it is impossible, but fair to say it is rare.\n",
    "- Most of the classification problem, we handle in ML, has imbalanced data and consequences of the prediction errors are rarely same.\n",
    "- When we have the imbalanced data, accuracy is not a good evaluation metric to use.\n"
   ]
  },
  {
   "cell_type": "markdown",
   "id": "d75fd08c",
   "metadata": {
    "papermill": {
     "duration": 0.050246,
     "end_time": "2021-08-18T09:16:31.658711",
     "exception": false,
     "start_time": "2021-08-18T09:16:31.608465",
     "status": "completed"
    },
    "tags": []
   },
   "source": [
    "- Formula for the accuracy is easy one: Total number of correct predictions divided by the total number of predictions."
   ]
  },
  {
   "cell_type": "markdown",
   "id": "c6d289fb",
   "metadata": {
    "papermill": {
     "duration": 0.050143,
     "end_time": "2021-08-18T09:16:31.759260",
     "exception": false,
     "start_time": "2021-08-18T09:16:31.709117",
     "status": "completed"
    },
    "tags": []
   },
   "source": [
    "![](https://www.mydatamodels.com/wp-content/uploads/2020/10/2.-Accuracy-formula-machine-learning-algorithms.png)"
   ]
  },
  {
   "cell_type": "markdown",
   "id": "f096e661",
   "metadata": {
    "papermill": {
     "duration": 0.050603,
     "end_time": "2021-08-18T09:16:31.860167",
     "exception": false,
     "start_time": "2021-08-18T09:16:31.809564",
     "status": "completed"
    },
    "tags": []
   },
   "source": [
    "image credit: https://www.mydatamodels.com"
   ]
  },
  {
   "cell_type": "markdown",
   "id": "aee5057e",
   "metadata": {
    "papermill": {
     "duration": 0.050545,
     "end_time": "2021-08-18T09:16:31.961597",
     "exception": false,
     "start_time": "2021-08-18T09:16:31.911052",
     "status": "completed"
    },
    "tags": []
   },
   "source": [
    "- It is clearly seen in the formula, why accuracy is not a good measure for the imbalanced data.\n",
    "- Imagine we have  a data...\n",
    "- Just kidding, you don't need to imagine we have real data to see.\n",
    "- We will use credit card fraud data to estimate fraud cases.\n",
    "- This is imbalanced data. Be careful !!!"
   ]
  },
  {
   "cell_type": "markdown",
   "id": "f09fbc45-d70a-4829-9db4-4b9843e08aff",
   "metadata": {},
   "source": [
    "## Credit Card Fraud Detection Dataset   \n",
    "\n",
    "The dataset contains transactions made by credit cards in September 2013 by European cardholders.\n",
    "This dataset presents transactions that occurred in two days, where we have 492 frauds out of 284,807 transactions. The dataset is highly unbalanced, the positive class (frauds) account for 0.172% of all transactions.\n",
    "\n",
    "It contains only numerical input variables which are the result of a PCA transformation. Unfortunately, due to confidentiality issues, we cannot provide the original features and more background information about the data. Features V1, V2, … V28 are the principal components obtained with PCA, the only features which have not been transformed with PCA are 'Time' and 'Amount'. Feature 'Time' contains the seconds elapsed between each transaction and the first transaction in the dataset. The feature 'Amount' is the transaction Amount, this feature can be used for example-dependant cost-sensitive learning. Feature 'Class' is the response variable and it takes value 1 in case of fraud and 0 otherwise.\n",
    "\n",
    "Given the class imbalance ratio, we recommend measuring the accuracy using the Area Under the Precision-Recall Curve (AUPRC). Confusion matrix accuracy is not meaningful for unbalanced classification."
   ]
  },
  {
   "cell_type": "code",
   "execution_count": 2,
   "id": "780e6619",
   "metadata": {
    "_kg_hide-input": true,
    "papermill": {
     "duration": 4.826956,
     "end_time": "2021-08-18T09:16:36.839937",
     "exception": false,
     "start_time": "2021-08-18T09:16:32.012981",
     "status": "completed"
    },
    "tags": []
   },
   "outputs": [
    {
     "data": {
      "text/html": [
       "<div>\n",
       "<style scoped>\n",
       "    .dataframe tbody tr th:only-of-type {\n",
       "        vertical-align: middle;\n",
       "    }\n",
       "\n",
       "    .dataframe tbody tr th {\n",
       "        vertical-align: top;\n",
       "    }\n",
       "\n",
       "    .dataframe thead th {\n",
       "        text-align: right;\n",
       "    }\n",
       "</style>\n",
       "<table border=\"1\" class=\"dataframe\">\n",
       "  <thead>\n",
       "    <tr style=\"text-align: right;\">\n",
       "      <th></th>\n",
       "      <th>Time</th>\n",
       "      <th>V1</th>\n",
       "      <th>V2</th>\n",
       "      <th>V3</th>\n",
       "      <th>V4</th>\n",
       "      <th>V5</th>\n",
       "      <th>V6</th>\n",
       "      <th>V7</th>\n",
       "      <th>V8</th>\n",
       "      <th>V9</th>\n",
       "      <th>...</th>\n",
       "      <th>V21</th>\n",
       "      <th>V22</th>\n",
       "      <th>V23</th>\n",
       "      <th>V24</th>\n",
       "      <th>V25</th>\n",
       "      <th>V26</th>\n",
       "      <th>V27</th>\n",
       "      <th>V28</th>\n",
       "      <th>Amount</th>\n",
       "      <th>Class</th>\n",
       "    </tr>\n",
       "  </thead>\n",
       "  <tbody>\n",
       "    <tr>\n",
       "      <th>0</th>\n",
       "      <td>0.0</td>\n",
       "      <td>-1.359807</td>\n",
       "      <td>-0.072781</td>\n",
       "      <td>2.536347</td>\n",
       "      <td>1.378155</td>\n",
       "      <td>-0.338321</td>\n",
       "      <td>0.462388</td>\n",
       "      <td>0.239599</td>\n",
       "      <td>0.098698</td>\n",
       "      <td>0.363787</td>\n",
       "      <td>...</td>\n",
       "      <td>-0.018307</td>\n",
       "      <td>0.277838</td>\n",
       "      <td>-0.110474</td>\n",
       "      <td>0.066928</td>\n",
       "      <td>0.128539</td>\n",
       "      <td>-0.189115</td>\n",
       "      <td>0.133558</td>\n",
       "      <td>-0.021053</td>\n",
       "      <td>149.62</td>\n",
       "      <td>0</td>\n",
       "    </tr>\n",
       "    <tr>\n",
       "      <th>1</th>\n",
       "      <td>0.0</td>\n",
       "      <td>1.191857</td>\n",
       "      <td>0.266151</td>\n",
       "      <td>0.166480</td>\n",
       "      <td>0.448154</td>\n",
       "      <td>0.060018</td>\n",
       "      <td>-0.082361</td>\n",
       "      <td>-0.078803</td>\n",
       "      <td>0.085102</td>\n",
       "      <td>-0.255425</td>\n",
       "      <td>...</td>\n",
       "      <td>-0.225775</td>\n",
       "      <td>-0.638672</td>\n",
       "      <td>0.101288</td>\n",
       "      <td>-0.339846</td>\n",
       "      <td>0.167170</td>\n",
       "      <td>0.125895</td>\n",
       "      <td>-0.008983</td>\n",
       "      <td>0.014724</td>\n",
       "      <td>2.69</td>\n",
       "      <td>0</td>\n",
       "    </tr>\n",
       "    <tr>\n",
       "      <th>2</th>\n",
       "      <td>1.0</td>\n",
       "      <td>-1.358354</td>\n",
       "      <td>-1.340163</td>\n",
       "      <td>1.773209</td>\n",
       "      <td>0.379780</td>\n",
       "      <td>-0.503198</td>\n",
       "      <td>1.800499</td>\n",
       "      <td>0.791461</td>\n",
       "      <td>0.247676</td>\n",
       "      <td>-1.514654</td>\n",
       "      <td>...</td>\n",
       "      <td>0.247998</td>\n",
       "      <td>0.771679</td>\n",
       "      <td>0.909412</td>\n",
       "      <td>-0.689281</td>\n",
       "      <td>-0.327642</td>\n",
       "      <td>-0.139097</td>\n",
       "      <td>-0.055353</td>\n",
       "      <td>-0.059752</td>\n",
       "      <td>378.66</td>\n",
       "      <td>0</td>\n",
       "    </tr>\n",
       "    <tr>\n",
       "      <th>3</th>\n",
       "      <td>1.0</td>\n",
       "      <td>-0.966272</td>\n",
       "      <td>-0.185226</td>\n",
       "      <td>1.792993</td>\n",
       "      <td>-0.863291</td>\n",
       "      <td>-0.010309</td>\n",
       "      <td>1.247203</td>\n",
       "      <td>0.237609</td>\n",
       "      <td>0.377436</td>\n",
       "      <td>-1.387024</td>\n",
       "      <td>...</td>\n",
       "      <td>-0.108300</td>\n",
       "      <td>0.005274</td>\n",
       "      <td>-0.190321</td>\n",
       "      <td>-1.175575</td>\n",
       "      <td>0.647376</td>\n",
       "      <td>-0.221929</td>\n",
       "      <td>0.062723</td>\n",
       "      <td>0.061458</td>\n",
       "      <td>123.50</td>\n",
       "      <td>0</td>\n",
       "    </tr>\n",
       "    <tr>\n",
       "      <th>4</th>\n",
       "      <td>2.0</td>\n",
       "      <td>-1.158233</td>\n",
       "      <td>0.877737</td>\n",
       "      <td>1.548718</td>\n",
       "      <td>0.403034</td>\n",
       "      <td>-0.407193</td>\n",
       "      <td>0.095921</td>\n",
       "      <td>0.592941</td>\n",
       "      <td>-0.270533</td>\n",
       "      <td>0.817739</td>\n",
       "      <td>...</td>\n",
       "      <td>-0.009431</td>\n",
       "      <td>0.798278</td>\n",
       "      <td>-0.137458</td>\n",
       "      <td>0.141267</td>\n",
       "      <td>-0.206010</td>\n",
       "      <td>0.502292</td>\n",
       "      <td>0.219422</td>\n",
       "      <td>0.215153</td>\n",
       "      <td>69.99</td>\n",
       "      <td>0</td>\n",
       "    </tr>\n",
       "  </tbody>\n",
       "</table>\n",
       "<p>5 rows × 31 columns</p>\n",
       "</div>"
      ],
      "text/plain": [
       "   Time        V1        V2        V3        V4        V5        V6        V7  \\\n",
       "0   0.0 -1.359807 -0.072781  2.536347  1.378155 -0.338321  0.462388  0.239599   \n",
       "1   0.0  1.191857  0.266151  0.166480  0.448154  0.060018 -0.082361 -0.078803   \n",
       "2   1.0 -1.358354 -1.340163  1.773209  0.379780 -0.503198  1.800499  0.791461   \n",
       "3   1.0 -0.966272 -0.185226  1.792993 -0.863291 -0.010309  1.247203  0.237609   \n",
       "4   2.0 -1.158233  0.877737  1.548718  0.403034 -0.407193  0.095921  0.592941   \n",
       "\n",
       "         V8        V9  ...       V21       V22       V23       V24       V25  \\\n",
       "0  0.098698  0.363787  ... -0.018307  0.277838 -0.110474  0.066928  0.128539   \n",
       "1  0.085102 -0.255425  ... -0.225775 -0.638672  0.101288 -0.339846  0.167170   \n",
       "2  0.247676 -1.514654  ...  0.247998  0.771679  0.909412 -0.689281 -0.327642   \n",
       "3  0.377436 -1.387024  ... -0.108300  0.005274 -0.190321 -1.175575  0.647376   \n",
       "4 -0.270533  0.817739  ... -0.009431  0.798278 -0.137458  0.141267 -0.206010   \n",
       "\n",
       "        V26       V27       V28  Amount  Class  \n",
       "0 -0.189115  0.133558 -0.021053  149.62      0  \n",
       "1  0.125895 -0.008983  0.014724    2.69      0  \n",
       "2 -0.139097 -0.055353 -0.059752  378.66      0  \n",
       "3 -0.221929  0.062723  0.061458  123.50      0  \n",
       "4  0.502292  0.219422  0.215153   69.99      0  \n",
       "\n",
       "[5 rows x 31 columns]"
      ]
     },
     "execution_count": 2,
     "metadata": {},
     "output_type": "execute_result"
    }
   ],
   "source": [
    "df_credit = pd.read_csv('./creditcard.csv')\n",
    "df_credit.head()"
   ]
  },
  {
   "cell_type": "code",
   "execution_count": 3,
   "id": "d6f1798b",
   "metadata": {
    "_kg_hide-input": true,
    "papermill": {
     "duration": 0.084114,
     "end_time": "2021-08-18T09:16:36.975332",
     "exception": false,
     "start_time": "2021-08-18T09:16:36.891218",
     "status": "completed"
    },
    "tags": []
   },
   "outputs": [
    {
     "data": {
      "text/plain": [
       "Class\n",
       "0    0.998273\n",
       "1    0.001727\n",
       "Name: proportion, dtype: float64"
      ]
     },
     "execution_count": 3,
     "metadata": {},
     "output_type": "execute_result"
    }
   ],
   "source": [
    "df_credit['Class'].value_counts(normalize=True)"
   ]
  },
  {
   "cell_type": "markdown",
   "id": "3c02f7bc",
   "metadata": {
    "papermill": {
     "duration": 0.055805,
     "end_time": "2021-08-18T09:16:37.084431",
     "exception": false,
     "start_time": "2021-08-18T09:16:37.028626",
     "status": "completed"
    },
    "tags": []
   },
   "source": [
    "- When we look at the formula above, if we put 100 cases as non-fraud, based on the equation we can get 99.8% accuracy\n",
    "-  99.8% accuracy !!!!\n",
    "- It is great isn't it ?\n",
    "- Let's see all of this by using Dummy Classifier."
   ]
  },
  {
   "cell_type": "code",
   "execution_count": 4,
   "id": "260c587b",
   "metadata": {
    "_kg_hide-input": true,
    "papermill": {
     "duration": 6.568666,
     "end_time": "2021-08-18T09:16:43.709165",
     "exception": false,
     "start_time": "2021-08-18T09:16:37.140499",
     "status": "completed"
    },
    "tags": []
   },
   "outputs": [
    {
     "name": "stdout",
     "output_type": "stream",
     "text": [
      "Accuracy:  0.99828\n"
     ]
    }
   ],
   "source": [
    "from sklearn.model_selection import train_test_split\n",
    "\n",
    "# load data\n",
    "df_credit = pd.read_csv('./creditcard.csv')\n",
    "\n",
    "X = df_credit.drop('Class', axis=1)\n",
    "y = df_credit['Class']\n",
    "\n",
    "# split into train and test set\n",
    "X_train, X_test, y_train, y_test = train_test_split(X, y, test_size=0.2, random_state=1, stratify=y)\n",
    "\n",
    "# create and train the dummy classifier\n",
    "model =DummyClassifier(strategy='most_frequent')\n",
    "model.fit(X_train, y_train)\n",
    "\n",
    "# get results\n",
    "result = model.score(X_test, y_test)\n",
    "\n",
    "print('Accuracy: ', f'{round(np.mean(result),6)}')"
   ]
  },
  {
   "cell_type": "markdown",
   "id": "edc228db",
   "metadata": {
    "papermill": {
     "duration": 0.065115,
     "end_time": "2021-08-18T09:16:43.827024",
     "exception": false,
     "start_time": "2021-08-18T09:16:43.761909",
     "status": "completed"
    },
    "tags": []
   },
   "source": [
    "- Ok we have 99.8% accuracy on the credit card fraud, without learning anything, why we are bothering ourselves to build a model?\n",
    "\n",
    "- We can easily select every case as a non-fraud and 99.8 out of 100 times, we are right.\n",
    "\n",
    "- Why aren't we celebrating it?"
   ]
  },
  {
   "cell_type": "markdown",
   "id": "96953842",
   "metadata": {
    "papermill": {
     "duration": 0.052789,
     "end_time": "2021-08-18T09:16:43.936252",
     "exception": false,
     "start_time": "2021-08-18T09:16:43.883463",
     "status": "completed"
    },
    "tags": []
   },
   "source": [
    " #### **What is the problem with the accuracy metric for the imbalanced data?**\n",
    "\n",
    "- Accuracy metric with imbalanced data gives us the accuracy on the majority class (non-fraud)\n",
    "- We can reach to 99.8% accuracy without building a machine leraning model, by always predicting the non-fraud.\n",
    "- The problem here is that accuracy is an inadequate measure for quantifying predictive performance in this imbalanced setting.\n",
    "- Accuracy does not report the correct score for the imbalanced data.\n",
    "- As we have seen overwhelming number of non-fraud instances (99.8%) surprass the fraud instances.\n",
    "- Even Dummy Classifier can get the 99.8% accuracy score."
   ]
  },
  {
   "cell_type": "markdown",
   "id": "f38f4e5e",
   "metadata": {
    "papermill": {
     "duration": 0.053528,
     "end_time": "2021-08-18T09:16:44.041985",
     "exception": false,
     "start_time": "2021-08-18T09:16:43.988457",
     "status": "completed"
    },
    "tags": []
   },
   "source": [
    "<div class=\"alert alert-block alert-info\">\n",
    "<b>Rule of Thumb:</b> Do not use accuracy score metric with the imbalanced data.\n",
    "</div>"
   ]
  },
  {
   "cell_type": "markdown",
   "id": "529f5ecc",
   "metadata": {
    "papermill": {
     "duration": 0.05164,
     "end_time": "2021-08-18T09:16:44.146244",
     "exception": false,
     "start_time": "2021-08-18T09:16:44.094604",
     "status": "completed"
    },
    "tags": []
   },
   "source": [
    "<a id=\"4\"></a>\n",
    "<font color=\"lightseagreen\" size=+1.5><b>Precision & Recall</b></font>\n",
    "\n",
    "<a href=\"#toc\" class=\"btn btn-primary btn-sm\" role=\"button\" aria-pressed=\"true\" style=\"color:white\" data-toggle=\"popover\">Table of Contents</a>"
   ]
  },
  {
   "cell_type": "markdown",
   "id": "52bf53c4",
   "metadata": {
    "papermill": {
     "duration": 0.053067,
     "end_time": "2021-08-18T09:16:44.251310",
     "exception": false,
     "start_time": "2021-08-18T09:16:44.198243",
     "status": "completed"
    },
    "tags": []
   },
   "source": [
    "#### **Precision**\n",
    "- Precision gives us accuracy of the positive classs (fraud case, cancer case, malign case, etc).\n",
    "- Main aim of the precision is the minimize the false positive (Type 1 error)"
   ]
  },
  {
   "cell_type": "markdown",
   "id": "ad59aec7",
   "metadata": {
    "papermill": {
     "duration": 0.051524,
     "end_time": "2021-08-18T09:16:44.355747",
     "exception": false,
     "start_time": "2021-08-18T09:16:44.304223",
     "status": "completed"
    },
    "tags": []
   },
   "source": [
    "![](https://upload.wikimedia.org/wikipedia/commons/thumb/2/26/Precisionrecall.svg/600px-Precisionrecall.svg.png)"
   ]
  },
  {
   "cell_type": "markdown",
   "id": "c5802354",
   "metadata": {
    "papermill": {
     "duration": 0.051377,
     "end_time": "2021-08-18T09:16:44.458824",
     "exception": false,
     "start_time": "2021-08-18T09:16:44.407447",
     "status": "completed"
    },
    "tags": []
   },
   "source": [
    "image credit: https://en.wikipedia.org"
   ]
  },
  {
   "cell_type": "markdown",
   "id": "a4a02bb5",
   "metadata": {
    "papermill": {
     "duration": 0.051444,
     "end_time": "2021-08-18T09:16:44.562174",
     "exception": false,
     "start_time": "2021-08-18T09:16:44.510730",
     "status": "completed"
    },
    "tags": []
   },
   "source": [
    "#### **Recall**\n",
    "- Recall gives us the score of the number of correct positive predictions made out of all correct positive predictions.\n",
    "- Main aim ofthe recall is the minimize the false negative (Type 2 error)."
   ]
  },
  {
   "cell_type": "markdown",
   "id": "3297ee17",
   "metadata": {
    "papermill": {
     "duration": 0.05124,
     "end_time": "2021-08-18T09:16:44.665198",
     "exception": false,
     "start_time": "2021-08-18T09:16:44.613958",
     "status": "completed"
    },
    "tags": []
   },
   "source": [
    "![](https://i.pinimg.com/originals/aa/91/7a/aa917a42422eaedb18224224519e48f0.jpg)"
   ]
  },
  {
   "cell_type": "markdown",
   "id": "69641168",
   "metadata": {
    "execution": {
     "iopub.execute_input": "2021-08-17T14:22:31.064055Z",
     "iopub.status.busy": "2021-08-17T14:22:31.063553Z",
     "iopub.status.idle": "2021-08-17T14:22:31.077849Z",
     "shell.execute_reply": "2021-08-17T14:22:31.076499Z",
     "shell.execute_reply.started": "2021-08-17T14:22:31.063941Z"
    },
    "papermill": {
     "duration": 0.051427,
     "end_time": "2021-08-18T09:16:44.768332",
     "exception": false,
     "start_time": "2021-08-18T09:16:44.716905",
     "status": "completed"
    },
    "tags": []
   },
   "source": [
    "image credit: https://www.pinterest.com"
   ]
  },
  {
   "cell_type": "markdown",
   "id": "0159dbd0",
   "metadata": {
    "papermill": {
     "duration": 0.051792,
     "end_time": "2021-08-18T09:16:44.871790",
     "exception": false,
     "start_time": "2021-08-18T09:16:44.819998",
     "status": "completed"
    },
    "tags": []
   },
   "source": [
    "<div class=\"alert alert-block alert-info\">\n",
    "<b>Precision & Recall --> Which one to use and When ?</b> \n",
    "     <ul style=\"list-style-type:none\">\n",
    "         <li><b>Precision:</b>  When our aim is to minimize false positive (Only fraud case, not include non-fraud transaction as a fraud transaction)</li>\n",
    "         <li><b>Recall : </b> When our aim is to minimize false negative (Every cancer patient should be classified as  a cancer patient, not classified as a healthy one)</li>\n",
    "      </ul>\n",
    "    \n",
    "   \n",
    "</div>\n"
   ]
  },
  {
   "cell_type": "markdown",
   "id": "fd7a9d64",
   "metadata": {
    "execution": {
     "iopub.execute_input": "2021-08-17T16:59:49.251646Z",
     "iopub.status.busy": "2021-08-17T16:59:49.250076Z",
     "iopub.status.idle": "2021-08-17T16:59:49.287175Z",
     "shell.execute_reply": "2021-08-17T16:59:49.285438Z",
     "shell.execute_reply.started": "2021-08-17T16:59:49.251397Z"
    },
    "papermill": {
     "duration": 0.051309,
     "end_time": "2021-08-18T09:16:44.974865",
     "exception": false,
     "start_time": "2021-08-18T09:16:44.923556",
     "status": "completed"
    },
    "tags": []
   },
   "source": [
    "<a id=\"5\"></a>\n",
    "<font color=\"lightseagreen\" size=+1.5><b>F Score (F Measure)</b></font>\n",
    "\n",
    "<a href=\"#toc\" class=\"btn btn-primary btn-sm\" role=\"button\" aria-pressed=\"true\" style=\"color:white\" data-toggle=\"popover\">Table of Contents</a>"
   ]
  },
  {
   "cell_type": "markdown",
   "id": "52693354",
   "metadata": {
    "papermill": {
     "duration": 0.05279,
     "end_time": "2021-08-18T09:16:45.080028",
     "exception": false,
     "start_time": "2021-08-18T09:16:45.027238",
     "status": "completed"
    },
    "tags": []
   },
   "source": [
    "- In real life we want to get perfect prediction on the positive class\n",
    "- Which means that we are looking high recall and high precision.\n",
    "- We have to balance them to get what we want.\n",
    "- F score provides us a score which combines precision and recall into a single measure without losing  their properties."
   ]
  },
  {
   "cell_type": "markdown",
   "id": "b6181fc8",
   "metadata": {
    "papermill": {
     "duration": 0.051483,
     "end_time": "2021-08-18T09:16:45.183454",
     "exception": false,
     "start_time": "2021-08-18T09:16:45.131971",
     "status": "completed"
    },
    "tags": []
   },
   "source": [
    "![](https://i.ytimg.com/vi/fcO9820wCXE/hqdefault.jpg)"
   ]
  },
  {
   "cell_type": "markdown",
   "id": "f6310497",
   "metadata": {
    "execution": {
     "iopub.execute_input": "2021-08-17T17:07:30.852531Z",
     "iopub.status.busy": "2021-08-17T17:07:30.852171Z",
     "iopub.status.idle": "2021-08-17T17:07:30.859821Z",
     "shell.execute_reply": "2021-08-17T17:07:30.858393Z",
     "shell.execute_reply.started": "2021-08-17T17:07:30.852501Z"
    },
    "papermill": {
     "duration": 0.051374,
     "end_time": "2021-08-18T09:16:45.286697",
     "exception": false,
     "start_time": "2021-08-18T09:16:45.235323",
     "status": "completed"
    },
    "tags": []
   },
   "source": [
    "image credit: https://www.youtube.com/channel/UCeoF_5Kw0YyWOqhAbQGrxJQ"
   ]
  },
  {
   "cell_type": "code",
   "execution_count": 5,
   "id": "de3d49bb",
   "metadata": {
    "_kg_hide-input": true,
    "papermill": {
     "duration": 25.567809,
     "end_time": "2021-08-18T09:17:10.906247",
     "exception": false,
     "start_time": "2021-08-18T09:16:45.338438",
     "status": "completed"
    },
    "tags": []
   },
   "outputs": [
    {
     "name": "stdout",
     "output_type": "stream",
     "text": [
      "              precision    recall  f1-score   support\n",
      "\n",
      "           0       1.00      1.00      1.00     56864\n",
      "           1       0.77      0.67      0.72        98\n",
      "\n",
      "    accuracy                           1.00     56962\n",
      "   macro avg       0.88      0.84      0.86     56962\n",
      "weighted avg       1.00      1.00      1.00     56962\n",
      "\n"
     ]
    }
   ],
   "source": [
    "# load data\n",
    "df_credit = pd.read_csv('./creditcard.csv')\n",
    "\n",
    "X = df_credit.drop('Class', axis=1)\n",
    "y = df_credit['Class']\n",
    "\n",
    "# split into train and test set\n",
    "X_train, X_test, y_train, y_test = train_test_split(X, y, test_size=0.2, random_state=1, stratify=y)\n",
    "\n",
    "real_values = []\n",
    "predicted_values = []\n",
    "\n",
    "# create model\n",
    "model =LogisticRegression(solver='liblinear')\n",
    "model.fit(X_train, y_train)\n",
    "y_pred = model.predict(X_test)\n",
    "\n",
    "\n",
    "report = classification_report(y_test, y_pred, target_names=[\"0\", \"1\"])\n",
    "print(report)"
   ]
  },
  {
   "cell_type": "markdown",
   "id": "d880935d",
   "metadata": {
    "papermill": {
     "duration": 0.052124,
     "end_time": "2021-08-18T09:17:11.011167",
     "exception": false,
     "start_time": "2021-08-18T09:17:10.959043",
     "status": "completed"
    },
    "tags": []
   },
   "source": [
    "- We didn't make any extensive exploratory analysis with the data. \n",
    "- We have just used it for showing the usage of the classification metrics on the imbalanced data.\n",
    "- For having said that precision: .93 , recall : 77 and f1 score: .83\n",
    "- And accuracy is 1.00 !!!"
   ]
  },
  {
   "cell_type": "markdown",
   "id": "4c1734f4",
   "metadata": {
    "papermill": {
     "duration": 0.051883,
     "end_time": "2021-08-18T09:17:11.116936",
     "exception": false,
     "start_time": "2021-08-18T09:17:11.065053",
     "status": "completed"
    },
    "tags": []
   },
   "source": [
    "- As we have mentioned before, deciding which metric to use very crucial step on the Machine Learning projects.\n",
    "- Stakeholders / customers concerns should be taken into consideration before deciding which metric to use.\n",
    "\n",
    "- In fraud detection case, if our customer aims to reduce false negative:\n",
    "    - Which means every fraud case should be defined as a fraud case\n",
    "    - Missing the prediction of the fraud case should be minimum\n",
    "    - We have to focus on how to reduce wrongly classified non-fraud cases.\n",
    "    - In that case we are looking for minimizin type 2 error and increasing the positive rate.\n",
    "    - We are looking for higher score recall for fraud case.\n",
    "    \n",
    "    \n",
    "- In fraud detection case, if our customer aims to reduce false positive:\n",
    "    - Which means we want to be sure that positive case should be positive case, not the others\n",
    "    - We do not want to classify our loyal customer's transaction as a fraud transaction and block his/her account.\n",
    "    - We have to focus on wrongly classified positive case.\n",
    "    - In that case we are looking for minimizin type 1 error and decreasing the false positive rate.\n",
    "    - We are looking for higher score precision for fraud case.\n",
    " \n",
    " \n",
    "- If we want to reduce the risk of the fraud without losing our customer:\n",
    "    - We want to make a balance between precision and recall\n",
    "    - It would be good idea to focus on F score\n"
   ]
  },
  {
   "cell_type": "markdown",
   "id": "ac9c9eed",
   "metadata": {
    "papermill": {
     "duration": 0.052513,
     "end_time": "2021-08-18T09:17:11.223536",
     "exception": false,
     "start_time": "2021-08-18T09:17:11.171023",
     "status": "completed"
    },
    "tags": []
   },
   "source": [
    "<a id=\"6\"></a>\n",
    "<font color=\"lightseagreen\" size=+1.5><b>ROC Curve (AUC)</b></font>\n",
    "\n",
    "<a href=\"#toc\" class=\"btn btn-primary btn-sm\" role=\"button\" aria-pressed=\"true\" style=\"color:white\" data-toggle=\"popover\">Table of Contents</a>"
   ]
  },
  {
   "cell_type": "markdown",
   "id": "130028fe",
   "metadata": {
    "papermill": {
     "duration": 0.052166,
     "end_time": "2021-08-18T09:17:11.327949",
     "exception": false,
     "start_time": "2021-08-18T09:17:11.275783",
     "status": "completed"
    },
    "tags": []
   },
   "source": [
    "- ROC Curve (receiver operating characteristic curve- AUC) measures model's ability to make distinction between two classes (positive & negative).\n",
    "- ROC Curve score close to 1, represents better model.\n",
    "- ROC Curve shows false positive rate against the true positive rate (recall)\n",
    "- What we are looking for : **High recall and low false positive rate**\n",
    "- ROC Curve should be as close as possible to the top left corner.\n",
    "- No matter how imbalanced  data we have,predicting randomly always produces an AUC of 0.5."
   ]
  },
  {
   "cell_type": "markdown",
   "id": "c5b302b4",
   "metadata": {
    "papermill": {
     "duration": 0.052004,
     "end_time": "2021-08-18T09:17:11.432494",
     "exception": false,
     "start_time": "2021-08-18T09:17:11.380490",
     "status": "completed"
    },
    "tags": []
   },
   "source": [
    "<img src=\"https://els-jbs-prod-cdn.jbs.elsevierhealth.com/cms/attachment/36cdb4ec-0c7d-48cb-9a4d-7cb463f8b7c3/gr1.jpg\" width=\"600\">"
   ]
  },
  {
   "cell_type": "markdown",
   "id": "0d1b8265",
   "metadata": {
    "papermill": {
     "duration": 0.052111,
     "end_time": "2021-08-18T09:17:11.537275",
     "exception": false,
     "start_time": "2021-08-18T09:17:11.485164",
     "status": "completed"
    },
    "tags": []
   },
   "source": [
    "image credit: https://www.jtcvs.org/article/S0022-5223(18)32875-7"
   ]
  },
  {
   "cell_type": "code",
   "execution_count": 6,
   "id": "726a60d6",
   "metadata": {
    "_kg_hide-input": true,
    "papermill": {
     "duration": 5.169476,
     "end_time": "2021-08-18T09:17:16.759075",
     "exception": false,
     "start_time": "2021-08-18T09:17:11.589599",
     "status": "completed"
    },
    "tags": []
   },
   "outputs": [
    {
     "data": {
      "image/png": "[encoded data removed]",
      "text/plain": [
       "<Figure size 750x750 with 1 Axes>"
      ]
     },
     "metadata": {},
     "output_type": "display_data"
    }
   ],
   "source": [
    "df_credit = pd.read_csv('./creditcard.csv')\n",
    "\n",
    "X = df_credit.drop('Class', axis=1)\n",
    "y = df_credit['Class']\n",
    "\n",
    "\n",
    "X_train, X_test, y_train, y_test = train_test_split(X, y, test_size=0.30, random_state=1, stratify=y)\n",
    "\n",
    "model = LogisticRegression(solver=\"liblinear\")\n",
    "\n",
    "model.fit(X_train,y_train)\n",
    "probs = model.predict_proba(X_test)\n",
    "fpr1, tpr1, thresholds = roc_curve(y_test, probs[:, 1], pos_label=1)\n",
    "roc_auc1 = auc(fpr1, tpr1)\n",
    "\n",
    "\n",
    "fig, ax = plt.subplots(figsize=(7.5, 7.5))\n",
    " \n",
    "plt.plot(fpr1, tpr1, label='ROC Curve 1 (AUC = %0.2f)' % (roc_auc1))\n",
    "plt.plot([0, 1], [0, 1], linestyle='--', color='red', label='Random Classifier')   \n",
    "plt.plot([0, 0, 1], [0, 1, 1], linestyle=':', color='green', label='Perfect Classifier')\n",
    "plt.xlim([-0.05, 1.05])\n",
    "plt.ylim([-0.05, 1.05])\n",
    "plt.xlabel('False positive rate')\n",
    "plt.ylabel('True positive rate')\n",
    "plt.legend(loc=\"lower right\")\n",
    "plt.show()"
   ]
  },
  {
   "cell_type": "markdown",
   "id": "273bb013",
   "metadata": {
    "papermill": {
     "duration": 0.053203,
     "end_time": "2021-08-18T09:17:16.866317",
     "exception": false,
     "start_time": "2021-08-18T09:17:16.813114",
     "status": "completed"
    },
    "tags": []
   },
   "source": [
    "- Higher value of True Positive Rate (TPR) means that false negative is very low. Model correctly predicted positive class.\n",
    "\n",
    "- Lower value of False Positive Rate means that false positive is very low. Model correctly predicted negative class."
   ]
  },
  {
   "cell_type": "markdown",
   "id": "eae8e080",
   "metadata": {
    "papermill": {
     "duration": 0.05345,
     "end_time": "2021-08-18T09:17:16.974712",
     "exception": false,
     "start_time": "2021-08-18T09:17:16.921262",
     "status": "completed"
    },
    "tags": []
   },
   "source": [
    "<div class=\"alert alert-block alert-info\">\n",
    "<b>Note:</b>  ROC Curve (AUC) is often more meaningful than using accuracy metric for classification problems with imbalanced data.\n",
    "</div>"
   ]
  },
  {
   "cell_type": "markdown",
   "id": "6b52eeeb",
   "metadata": {
    "papermill": {
     "duration": 0.054378,
     "end_time": "2021-08-18T09:17:22.231421",
     "exception": false,
     "start_time": "2021-08-18T09:17:22.177043",
     "status": "completed"
    },
    "tags": []
   },
   "source": [
    "<a id=\"8\"></a>\n",
    "<font color=\"lightseagreen\" size=+2.5><b>Regression Evaluation Metrics</b></font>\n",
    "\n",
    "<a href=\"#toc\" class=\"btn btn-primary btn-sm\" role=\"button\" aria-pressed=\"true\" style=\"color:white\" data-toggle=\"popover\">Table of Contents</a>"
   ]
  },
  {
   "cell_type": "markdown",
   "id": "84e55274",
   "metadata": {
    "papermill": {
     "duration": 0.053969,
     "end_time": "2021-08-18T09:17:22.340110",
     "exception": false,
     "start_time": "2021-08-18T09:17:22.286141",
     "status": "completed"
    },
    "tags": []
   },
   "source": [
    "- It would be good idea to refresh our knowledge on the regression evaluation metrics.\n",
    "- We will look at \n",
    "    - Mean Absolute Error, \n",
    "    - Mean Squared Error\n",
    "    - Root Mean Squared Error\n",
    "    - R2\n",
    "- First we will see their definitions and formulas and then see them in the action.\n",
    "- In this study, we will use Boston House  prices dataset."
   ]
  },
  {
   "cell_type": "markdown",
   "id": "48fc4531-aeb2-42d1-8c5b-b0499fae91c2",
   "metadata": {},
   "source": [
    "<a id=\"8\"></a>\n",
    "<font color=\"lightseagreen\" size=+1.5><b>Boston House Prices Dataset</b></font>\n",
    "\n",
    "<a href=\"#toc\" class=\"btn btn-primary btn-sm\" role=\"button\" aria-pressed=\"true\" style=\"color:white\" data-toggle=\"popover\">Table of Contents</a>"
   ]
  },
  {
   "cell_type": "markdown",
   "id": "e2cdb3db-b1ca-47f2-b189-b065086dc19a",
   "metadata": {},
   "source": [
    "Each record in the database describes a Boston suburb or town. The data was drawn from the Boston Standard Metropolitan Statistical Area (SMSA) in 1970. The attributes are deﬁned as follows (taken from the UCI Machine Learning Repository1): \n",
    "\n",
    "\n",
    "* CRIM: per capita crime rate by town\n",
    "* ZN: proportion of residential land zoned for lots over 25,000 sq.ft.\n",
    "* INDUS: proportion of non-retail business acres per town\n",
    "* CHAS: Charles River dummy variable (= 1 if tract bounds river; 0 otherwise)\n",
    "* NOX: nitric oxides concentration (parts per 10 million)\n",
    "* RM: average number of rooms per dwelling\n",
    "* AGE: proportion of owner-occupied units built prior to 1940\n",
    "* DIS: weighted distances to ﬁve Boston employment centers\n",
    "* RAD: index of accessibility to radial highways\n",
    "* TAX: full-value property-tax rate per \\$10,000\n",
    "* PTRATIO: pupil-teacher ratio by town\n",
    "* B: 1000(Bk−0.63)2 where Bk is the proportion of blacks by town\n",
    "* LSTAT: % lower status of the population\n",
    "* MEDV: Median value of owner-occupied homes in $1000s   \n",
    "\n",
    "We can see that the input attributes have a mixture of units."
   ]
  },
  {
   "cell_type": "code",
   "execution_count": 7,
   "id": "dab48141",
   "metadata": {
    "_kg_hide-input": true,
    "papermill": {
     "duration": 0.094858,
     "end_time": "2021-08-18T09:17:22.489396",
     "exception": false,
     "start_time": "2021-08-18T09:17:22.394538",
     "status": "completed"
    },
    "tags": []
   },
   "outputs": [
    {
     "data": {
      "text/html": [
       "<div>\n",
       "<style scoped>\n",
       "    .dataframe tbody tr th:only-of-type {\n",
       "        vertical-align: middle;\n",
       "    }\n",
       "\n",
       "    .dataframe tbody tr th {\n",
       "        vertical-align: top;\n",
       "    }\n",
       "\n",
       "    .dataframe thead th {\n",
       "        text-align: right;\n",
       "    }\n",
       "</style>\n",
       "<table border=\"1\" class=\"dataframe\">\n",
       "  <thead>\n",
       "    <tr style=\"text-align: right;\">\n",
       "      <th></th>\n",
       "      <th>CRIM</th>\n",
       "      <th>ZN</th>\n",
       "      <th>INDUS</th>\n",
       "      <th>NOX</th>\n",
       "      <th>RM</th>\n",
       "      <th>AGE</th>\n",
       "      <th>DIS</th>\n",
       "      <th>RAD</th>\n",
       "      <th>TAX</th>\n",
       "      <th>PTRATIO</th>\n",
       "      <th>B</th>\n",
       "      <th>LSTAT</th>\n",
       "      <th>MEDV</th>\n",
       "    </tr>\n",
       "  </thead>\n",
       "  <tbody>\n",
       "    <tr>\n",
       "      <th>0</th>\n",
       "      <td>0.00632</td>\n",
       "      <td>18.0</td>\n",
       "      <td>2.31</td>\n",
       "      <td>0.538</td>\n",
       "      <td>6.575</td>\n",
       "      <td>65.2</td>\n",
       "      <td>4.0900</td>\n",
       "      <td>1</td>\n",
       "      <td>296.0</td>\n",
       "      <td>15.3</td>\n",
       "      <td>396.90</td>\n",
       "      <td>4.98</td>\n",
       "      <td>24.0</td>\n",
       "    </tr>\n",
       "    <tr>\n",
       "      <th>1</th>\n",
       "      <td>0.02731</td>\n",
       "      <td>0.0</td>\n",
       "      <td>7.07</td>\n",
       "      <td>0.469</td>\n",
       "      <td>6.421</td>\n",
       "      <td>78.9</td>\n",
       "      <td>4.9671</td>\n",
       "      <td>2</td>\n",
       "      <td>242.0</td>\n",
       "      <td>17.8</td>\n",
       "      <td>396.90</td>\n",
       "      <td>9.14</td>\n",
       "      <td>21.6</td>\n",
       "    </tr>\n",
       "    <tr>\n",
       "      <th>2</th>\n",
       "      <td>0.02729</td>\n",
       "      <td>0.0</td>\n",
       "      <td>7.07</td>\n",
       "      <td>0.469</td>\n",
       "      <td>7.185</td>\n",
       "      <td>61.1</td>\n",
       "      <td>4.9671</td>\n",
       "      <td>2</td>\n",
       "      <td>242.0</td>\n",
       "      <td>17.8</td>\n",
       "      <td>392.83</td>\n",
       "      <td>4.03</td>\n",
       "      <td>34.7</td>\n",
       "    </tr>\n",
       "    <tr>\n",
       "      <th>3</th>\n",
       "      <td>0.03237</td>\n",
       "      <td>0.0</td>\n",
       "      <td>2.18</td>\n",
       "      <td>0.458</td>\n",
       "      <td>6.998</td>\n",
       "      <td>45.8</td>\n",
       "      <td>6.0622</td>\n",
       "      <td>3</td>\n",
       "      <td>222.0</td>\n",
       "      <td>18.7</td>\n",
       "      <td>394.63</td>\n",
       "      <td>2.94</td>\n",
       "      <td>33.4</td>\n",
       "    </tr>\n",
       "    <tr>\n",
       "      <th>4</th>\n",
       "      <td>0.06905</td>\n",
       "      <td>0.0</td>\n",
       "      <td>2.18</td>\n",
       "      <td>0.458</td>\n",
       "      <td>7.147</td>\n",
       "      <td>54.2</td>\n",
       "      <td>6.0622</td>\n",
       "      <td>3</td>\n",
       "      <td>222.0</td>\n",
       "      <td>18.7</td>\n",
       "      <td>396.90</td>\n",
       "      <td>5.33</td>\n",
       "      <td>36.2</td>\n",
       "    </tr>\n",
       "  </tbody>\n",
       "</table>\n",
       "</div>"
      ],
      "text/plain": [
       "      CRIM    ZN  INDUS    NOX     RM   AGE     DIS  RAD    TAX  PTRATIO  \\\n",
       "0  0.00632  18.0   2.31  0.538  6.575  65.2  4.0900    1  296.0     15.3   \n",
       "1  0.02731   0.0   7.07  0.469  6.421  78.9  4.9671    2  242.0     17.8   \n",
       "2  0.02729   0.0   7.07  0.469  7.185  61.1  4.9671    2  242.0     17.8   \n",
       "3  0.03237   0.0   2.18  0.458  6.998  45.8  6.0622    3  222.0     18.7   \n",
       "4  0.06905   0.0   2.18  0.458  7.147  54.2  6.0622    3  222.0     18.7   \n",
       "\n",
       "        B  LSTAT  MEDV  \n",
       "0  396.90   4.98  24.0  \n",
       "1  396.90   9.14  21.6  \n",
       "2  392.83   4.03  34.7  \n",
       "3  394.63   2.94  33.4  \n",
       "4  396.90   5.33  36.2  "
      ]
     },
     "execution_count": 7,
     "metadata": {},
     "output_type": "execute_result"
    }
   ],
   "source": [
    "column_names = ['CRIM', 'ZN', 'INDUS', 'CHAS', 'NOX', 'RM', 'AGE', 'DIS', 'RAD', 'TAX', 'PTRATIO', 'B', 'LSTAT', 'MEDV']\n",
    "df_boston= pd.read_csv('./housing.csv',header=None, delimiter=r\"\\s+\", names=column_names)\n",
    "df_boston = df_boston.drop('CHAS', axis=1)\n",
    "df_boston.head()"
   ]
  },
  {
   "cell_type": "code",
   "execution_count": 8,
   "id": "23f069e3",
   "metadata": {
    "_kg_hide-input": true,
    "papermill": {
     "duration": 0.070452,
     "end_time": "2021-08-18T09:17:22.619515",
     "exception": false,
     "start_time": "2021-08-18T09:17:22.549063",
     "status": "completed"
    },
    "tags": []
   },
   "outputs": [
    {
     "data": {
      "text/plain": [
       "count    506.000000\n",
       "mean      22.532806\n",
       "std        9.197104\n",
       "min        5.000000\n",
       "25%       17.025000\n",
       "50%       21.200000\n",
       "75%       25.000000\n",
       "max       50.000000\n",
       "Name: MEDV, dtype: float64"
      ]
     },
     "execution_count": 8,
     "metadata": {},
     "output_type": "execute_result"
    }
   ],
   "source": [
    "df_boston['MEDV'].describe()"
   ]
  },
  {
   "cell_type": "markdown",
   "id": "39f31648",
   "metadata": {
    "papermill": {
     "duration": 0.056234,
     "end_time": "2021-08-18T09:17:22.731246",
     "exception": false,
     "start_time": "2021-08-18T09:17:22.675012",
     "status": "completed"
    },
    "tags": []
   },
   "source": [
    " <a id=\"9\"></a>\n",
    "<font color=\"lightseagreen\" size=+1.5><b>Mean Absolute Error (MAE)</b></font>\n",
    "\n",
    "<a href=\"#toc\" class=\"btn btn-primary btn-sm\" role=\"button\" aria-pressed=\"true\" style=\"color:white\" data-toggle=\"popover\">Table of Contents</a>"
   ]
  },
  {
   "cell_type": "markdown",
   "id": "c7b1ac31",
   "metadata": {
    "papermill": {
     "duration": 0.056247,
     "end_time": "2021-08-18T09:17:22.843390",
     "exception": false,
     "start_time": "2021-08-18T09:17:22.787143",
     "status": "completed"
    },
    "tags": []
   },
   "source": [
    "- As shown below, MAE is average absolute differences between  our predicitions and the real value.\n",
    "- MAE is easily interpretable\n",
    "- Lower the MAE, better the prediction."
   ]
  },
  {
   "cell_type": "markdown",
   "id": "b818b970",
   "metadata": {
    "papermill": {
     "duration": 0.055347,
     "end_time": "2021-08-18T09:17:22.954718",
     "exception": false,
     "start_time": "2021-08-18T09:17:22.899371",
     "status": "completed"
    },
    "tags": []
   },
   "source": [
    "![](https://i.imgur.com/19LNbyQ.jpg)"
   ]
  },
  {
   "cell_type": "markdown",
   "id": "61a53d56",
   "metadata": {
    "papermill": {
     "duration": 0.055114,
     "end_time": "2021-08-18T09:17:23.065268",
     "exception": false,
     "start_time": "2021-08-18T09:17:23.010154",
     "status": "completed"
    },
    "tags": []
   },
   "source": [
    "image credit : https://stackoverflow.com/questions/56401346/mean-absolute-error-in-tensorflow-without-built-in-functions/56401550"
   ]
  },
  {
   "cell_type": "code",
   "execution_count": 9,
   "id": "9e8b6c56",
   "metadata": {
    "_kg_hide-input": true,
    "papermill": {
     "duration": 0.579031,
     "end_time": "2021-08-18T09:17:23.701185",
     "exception": false,
     "start_time": "2021-08-18T09:17:23.122154",
     "status": "completed"
    },
    "tags": []
   },
   "outputs": [
    {
     "name": "stdout",
     "output_type": "stream",
     "text": [
      "MAE: 3.378067901818289\n"
     ]
    }
   ],
   "source": [
    "X = df_boston.drop('MEDV',axis=1)\n",
    "y = df_boston['MEDV']\n",
    "\n",
    "X_train, X_test, y_train, y_test = train_test_split(X, y, test_size=0.30, random_state=1)\n",
    "\n",
    "model = LinearRegression()\n",
    "model.fit(X_train, y_train)\n",
    "\n",
    "y_pred = model.predict(X_test)\n",
    "mae = mean_absolute_error(y_test, y_pred)\n",
    "\n",
    "print(f'MAE: {mae}')"
   ]
  },
  {
   "cell_type": "markdown",
   "id": "6114388e",
   "metadata": {
    "papermill": {
     "duration": 0.055927,
     "end_time": "2021-08-18T09:17:23.814261",
     "exception": false,
     "start_time": "2021-08-18T09:17:23.758334",
     "status": "completed"
    },
    "tags": []
   },
   "source": [
    "<a id=\"10\"></a>\n",
    "<font color=\"lightseagreen\" size=+1.5><b>Mean Squared Error (MSE)</b></font>\n",
    "\n",
    "<a href=\"#toc\" class=\"btn btn-primary btn-sm\" role=\"button\" aria-pressed=\"true\" style=\"color:white\" data-toggle=\"popover\">Table of Contents</a>"
   ]
  },
  {
   "cell_type": "markdown",
   "id": "4a4a662c",
   "metadata": {
    "papermill": {
     "duration": 0.055976,
     "end_time": "2021-08-18T09:17:23.926109",
     "exception": false,
     "start_time": "2021-08-18T09:17:23.870133",
     "status": "completed"
    },
    "tags": []
   },
   "source": [
    "- MSE is the squarred average squared differences between predicted value and the real value.\n",
    "- Lower the MSE, better the prediction."
   ]
  },
  {
   "cell_type": "markdown",
   "id": "9b082e08",
   "metadata": {
    "papermill": {
     "duration": 0.055505,
     "end_time": "2021-08-18T09:17:24.037085",
     "exception": false,
     "start_time": "2021-08-18T09:17:23.981580",
     "status": "completed"
    },
    "tags": []
   },
   "source": [
    "![](https://cdn-images-1.medium.com/max/959/1*WDKhO-z7rti70ZTv59yJ9A.jpeg)"
   ]
  },
  {
   "cell_type": "markdown",
   "id": "d5957d5d",
   "metadata": {
    "papermill": {
     "duration": 0.055974,
     "end_time": "2021-08-18T09:17:24.150424",
     "exception": false,
     "start_time": "2021-08-18T09:17:24.094450",
     "status": "completed"
    },
    "tags": []
   },
   "source": [
    "image credit: https://cdn-images-1.medium.com"
   ]
  },
  {
   "cell_type": "code",
   "execution_count": 10,
   "id": "70d9455c",
   "metadata": {
    "_kg_hide-input": true,
    "papermill": {
     "duration": 0.506503,
     "end_time": "2021-08-18T09:17:24.713310",
     "exception": false,
     "start_time": "2021-08-18T09:17:24.206807",
     "status": "completed"
    },
    "tags": []
   },
   "outputs": [
    {
     "name": "stdout",
     "output_type": "stream",
     "text": [
      "MSE: 20.116803308501307\n"
     ]
    }
   ],
   "source": [
    "X = df_boston.drop('MEDV',axis=1)\n",
    "y = df_boston['MEDV']\n",
    "\n",
    "X_train, X_test, y_train, y_test = train_test_split(X, y, test_size=0.30, random_state=1)\n",
    "\n",
    "model = LinearRegression()\n",
    "model.fit(X_train, y_train)\n",
    "\n",
    "y_pred = model.predict(X_test)\n",
    "mse = mean_squared_error(y_pred, y_test)\n",
    "\n",
    "print(f'MSE: {mse}')"
   ]
  },
  {
   "cell_type": "markdown",
   "id": "17bb1ea9",
   "metadata": {
    "papermill": {
     "duration": 0.056453,
     "end_time": "2021-08-18T09:17:24.825515",
     "exception": false,
     "start_time": "2021-08-18T09:17:24.769062",
     "status": "completed"
    },
    "tags": []
   },
   "source": [
    "<a id=\"11\"></a>\n",
    "<font color=\"lightseagreen\" size=+1.5><b>Root Mean Squared Error (RMSE)</b></font>\n",
    "\n",
    "<a href=\"#toc\" class=\"btn btn-primary btn-sm\" role=\"button\" aria-pressed=\"true\" style=\"color:white\" data-toggle=\"popover\">Table of Contents</a>"
   ]
  },
  {
   "cell_type": "markdown",
   "id": "9c5b0e12",
   "metadata": {
    "papermill": {
     "duration": 0.056104,
     "end_time": "2021-08-18T09:17:24.937790",
     "exception": false,
     "start_time": "2021-08-18T09:17:24.881686",
     "status": "completed"
    },
    "tags": []
   },
   "source": [
    "- RMSE is basically square root of the MSE\n",
    "- By taking the square root of the MSE, units are converted  back to the original units of the target variable."
   ]
  },
  {
   "cell_type": "markdown",
   "id": "a0ba395b",
   "metadata": {
    "papermill": {
     "duration": 0.056296,
     "end_time": "2021-08-18T09:17:25.051306",
     "exception": false,
     "start_time": "2021-08-18T09:17:24.995010",
     "status": "completed"
    },
    "tags": []
   },
   "source": [
    "<img src=\"https://programmerah.com/wp-content/uploads/2020/11/20190714113817886.png\" width=\"600\">"
   ]
  },
  {
   "cell_type": "markdown",
   "id": "12dfaed2",
   "metadata": {
    "papermill": {
     "duration": 0.057236,
     "end_time": "2021-08-18T09:17:25.166786",
     "exception": false,
     "start_time": "2021-08-18T09:17:25.109550",
     "status": "completed"
    },
    "tags": []
   },
   "source": [
    "image credit: https://programmerah.com"
   ]
  },
  {
   "cell_type": "code",
   "execution_count": 11,
   "id": "8bb05995",
   "metadata": {
    "_kg_hide-input": true,
    "papermill": {
     "duration": 0.521578,
     "end_time": "2021-08-18T09:17:25.797412",
     "exception": false,
     "start_time": "2021-08-18T09:17:25.275834",
     "status": "completed"
    },
    "tags": []
   },
   "outputs": [
    {
     "name": "stdout",
     "output_type": "stream",
     "text": [
      "RMSE: 4.485175950673653\n"
     ]
    }
   ],
   "source": [
    "X = df_boston.drop('MEDV',axis=1)\n",
    "y = df_boston['MEDV']\n",
    "\n",
    "X_train, X_test, y_train, y_test = train_test_split(X, y, test_size=0.30, random_state=1)\n",
    "\n",
    "model = LinearRegression()\n",
    "model.fit(X_train, y_train)\n",
    "\n",
    "y_pred = model.predict(X_test)\n",
    "rmse = mean_squared_error(y_pred, y_test, squared=False)\n",
    "\n",
    "print(f'RMSE: {rmse}')"
   ]
  },
  {
   "cell_type": "markdown",
   "id": "5efcfd2b",
   "metadata": {
    "papermill": {
     "duration": 0.057658,
     "end_time": "2021-08-18T09:17:25.912017",
     "exception": false,
     "start_time": "2021-08-18T09:17:25.854359",
     "status": "completed"
    },
    "tags": []
   },
   "source": [
    "<a id=\"12\"></a>\n",
    "<font color=\"lightseagreen\" size=+1.5><b>R Squared (R2)</b></font>\n",
    "\n",
    "<a href=\"#toc\" class=\"btn btn-primary btn-sm\" role=\"button\" aria-pressed=\"true\" style=\"color:white\" data-toggle=\"popover\">Table of Contents</a>"
   ]
  },
  {
   "cell_type": "markdown",
   "id": "718d1c9f",
   "metadata": {
    "papermill": {
     "duration": 0.056468,
     "end_time": "2021-08-18T09:17:26.025827",
     "exception": false,
     "start_time": "2021-08-18T09:17:25.969359",
     "status": "completed"
    },
    "tags": []
   },
   "source": [
    "- Most of the applications in default uses R squared as a metric for the regression problems.\n",
    "- R squared gives us the proportion of the target variable is explained by the feature(s).\n",
    "- R squared provides an indication of the goodness of fit of a set of predictions to the actual values."
   ]
  },
  {
   "cell_type": "markdown",
   "id": "1d190f33",
   "metadata": {
    "papermill": {
     "duration": 0.057869,
     "end_time": "2021-08-18T09:17:26.140653",
     "exception": false,
     "start_time": "2021-08-18T09:17:26.082784",
     "status": "completed"
    },
    "tags": []
   },
   "source": [
    "![](https://slidetodoc.com/presentation_image/7d85c6a301ba5b97b7d3b73273b073d0/image-13.jpg)"
   ]
  },
  {
   "cell_type": "markdown",
   "id": "f4cf325d",
   "metadata": {
    "papermill": {
     "duration": 0.05625,
     "end_time": "2021-08-18T09:17:26.253447",
     "exception": false,
     "start_time": "2021-08-18T09:17:26.197197",
     "status": "completed"
    },
    "tags": []
   },
   "source": [
    "image credit: https://slidetodoc.com/class-5-thurs-sep-23-example-of-using"
   ]
  },
  {
   "cell_type": "code",
   "execution_count": 12,
   "id": "68f19361",
   "metadata": {
    "_kg_hide-input": true,
    "papermill": {
     "duration": 0.526515,
     "end_time": "2021-08-18T09:17:26.836383",
     "exception": false,
     "start_time": "2021-08-18T09:17:26.309868",
     "status": "completed"
    },
    "tags": []
   },
   "outputs": [
    {
     "name": "stdout",
     "output_type": "stream",
     "text": [
      "R Squared: 0.6523409570243166\n"
     ]
    }
   ],
   "source": [
    "X = df_boston.drop('MEDV',axis=1)\n",
    "y = df_boston['MEDV']\n",
    "\n",
    "X_train, X_test, y_train, y_test = train_test_split(X, y, test_size=0.30, random_state=1)\n",
    "\n",
    "model = LinearRegression()\n",
    "model.fit(X_train, y_train)\n",
    "\n",
    "y_pred = model.predict(X_test)\n",
    "r2 = r2_score(y_pred, y_test)\n",
    "\n",
    "print(f'R Squared: {r2}')"
   ]
  },
  {
   "cell_type": "markdown",
   "id": "97a2fb4a",
   "metadata": {
    "papermill": {
     "duration": 0.05713,
     "end_time": "2021-08-18T09:17:26.951200",
     "exception": false,
     "start_time": "2021-08-18T09:17:26.894070",
     "status": "completed"
    },
    "tags": []
   },
   "source": [
    "<a id=\"13\"></a>\n",
    "<font color=\"darkblue\" size=+1.5><b>Conclusion</b></font>\n",
    "\n",
    "<a href=\"#toc\" class=\"btn btn-primary btn-sm\" role=\"button\" aria-pressed=\"true\" style=\"color:white\" data-toggle=\"popover\">Table of Contents</a>"
   ]
  },
  {
   "cell_type": "markdown",
   "id": "2cd12b1e",
   "metadata": {
    "papermill": {
     "duration": 0.057601,
     "end_time": "2021-08-18T09:17:27.068108",
     "exception": false,
     "start_time": "2021-08-18T09:17:27.010507",
     "status": "completed"
    },
    "tags": []
   },
   "source": [
    "- We have covered one of the most important concepts of the Machine Learning.\n",
    "- We have looked at both classification metrics and regression metrics.\n",
    "- We have talked about the misusages of the metrics and the correct ones.\n",
    "\n",
    "- Evaluation metrics are crucial. Based on the model performance we are giving decisions.\n",
    "- We should remember that we are not just only looking for a better model, also looking for our end goal.\n",
    "- Before deciding evaluation metrics, it would be a good idea to talk your customer, stakeholders and relevant people to clarify their goals and what they realy want.\n",
    "- And please remember that most of the classification problems in the real life have imbalanced data.\n"
   ]
  },
  {
   "cell_type": "markdown",
   "id": "f2331e00",
   "metadata": {
    "papermill": {
     "duration": 0.057384,
     "end_time": "2021-08-18T09:17:27.412628",
     "exception": false,
     "start_time": "2021-08-18T09:17:27.355244",
     "status": "completed"
    },
    "tags": []
   },
   "source": [
    "![](https://media.giphy.com/media/l2JJsJQY6yj9HLaZW/giphy.gif)"
   ]
  },
  {
   "cell_type": "markdown",
   "id": "c70c7aa6",
   "metadata": {
    "papermill": {
     "duration": 0.05693,
     "end_time": "2021-08-18T09:17:27.527006",
     "exception": false,
     "start_time": "2021-08-18T09:17:27.470076",
     "status": "completed"
    },
    "tags": []
   },
   "source": [
    "image credit: https://giphy.com"
   ]
  },
  {
   "cell_type": "markdown",
   "id": "07e206d2",
   "metadata": {
    "execution": {
     "iopub.execute_input": "2021-08-18T08:11:57.924503Z",
     "iopub.status.busy": "2021-08-18T08:11:57.924116Z",
     "iopub.status.idle": "2021-08-18T08:11:57.932496Z",
     "shell.execute_reply": "2021-08-18T08:11:57.9311Z",
     "shell.execute_reply.started": "2021-08-18T08:11:57.924474Z"
    },
    "papermill": {
     "duration": 0.057209,
     "end_time": "2021-08-18T09:17:27.641423",
     "exception": false,
     "start_time": "2021-08-18T09:17:27.584214",
     "status": "completed"
    },
    "tags": []
   },
   "source": [
    "<a id=\"14\"></a>\n",
    "<font color=\"darkblue\" size=+1.5><b>References & Further Reading</b></font>\n",
    "\n",
    "\n",
    "<a href=\"#toc\" class=\"btn btn-primary btn-sm\" role=\"button\" aria-pressed=\"true\" style=\"color:white\" data-toggle=\"popover\">Table of Contents</a>\n",
    "\n",
    "\n",
    "[Machine Learning - Beginner &Intermediate-Friendly BOOKS](https://www.kaggle.com/general/255972)"
   ]
  },
  {
   "cell_type": "code",
   "execution_count": null,
   "id": "58ce6e5a-b9f6-4526-b050-c2ce4bf82b7c",
   "metadata": {},
   "outputs": [],
   "source": []
  }
 ],
 "metadata": {
  "kernelspec": {
   "display_name": "Python 3 (ipykernel)",
   "language": "python",
   "name": "python3"
  },
  "language_info": {
   "codemirror_mode": {
    "name": "ipython",
    "version": 3
   },
   "file_extension": ".py",
   "mimetype": "text/x-python",
   "name": "python",
   "nbconvert_exporter": "python",
   "pygments_lexer": "ipython3",
   "version": "3.11.4"
  },
  "papermill": {
   "default_parameters": {},
   "duration": 73.060754,
   "end_time": "2021-08-18T09:17:29.118192",
   "environment_variables": {},
   "exception": null,
   "input_path": "__notebook__.ipynb",
   "output_path": "__notebook__.ipynb",
   "parameters": {},
   "start_time": "2021-08-18T09:16:16.057438",
   "version": "2.3.3"
  }
 },
 "nbformat": 4,
 "nbformat_minor": 5
}
